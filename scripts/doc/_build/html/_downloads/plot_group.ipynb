{
  "nbformat_minor": 0, 
  "nbformat": 4, 
  "cells": [
    {
      "execution_count": null, 
      "cell_type": "code", 
      "source": [
        "%matplotlib inline"
      ], 
      "outputs": [], 
      "metadata": {
        "collapsed": false
      }
    }, 
    {
      "source": [
        "\n# Group analysis\n\n\nRun the group analysis.\n\n"
      ], 
      "cell_type": "markdown", 
      "metadata": {}
    }, 
    {
      "execution_count": null, 
      "cell_type": "code", 
      "source": [
        "from pyface.qt import QtCore, QtGui\nimport os.path as op\n\nimport mne\n\nstudy_path = op.join(op.dirname(\"__file__\"), '..', '..')\nsubjects_dir = op.join(study_path, 'subjects')\nmeg_dir = op.join(study_path, 'MEG')\n\nfaces_fname = op.join(study_path, 'MEG', 'eeg_faces-ave.fif')\nfaces = mne.read_evokeds(faces_fname)[0]\nfaces.plot_joint()\n\nscrambled = mne.read_evokeds(op.join(study_path, 'MEG',\n                                     'eeg_scrambled-ave.fif'))[0]\nscrambled.plot_joint()\n\nfaces.comment = 'Faces'\nscrambled.comment = 'Scrambled'\nidx = faces.ch_names.index('EEG070')\nmne.viz.plot_compare_evokeds({'Faces': faces, 'Scrambled': scrambled}, [idx])\n\nfname = op.join(study_path, 'MEG', 'contrast-average')\nstc = mne.read_source_estimate(fname, subject='fsaverage')\nbrain = stc.plot(views=['cau'], hemi='both', subject='fsaverage',\n                 subjects_dir=subjects_dir)\nbrain.set_data_time_index(407)"
      ], 
      "outputs": [], 
      "metadata": {
        "collapsed": false
      }
    }
  ], 
  "metadata": {
    "kernelspec": {
      "display_name": "Python 2", 
      "name": "python2", 
      "language": "python"
    }, 
    "language_info": {
      "mimetype": "text/x-python", 
      "nbconvert_exporter": "python", 
      "name": "python", 
      "file_extension": ".py", 
      "version": "2.7.11", 
      "pygments_lexer": "ipython2", 
      "codemirror_mode": {
        "version": 2, 
        "name": "ipython"
      }
    }
  }
}