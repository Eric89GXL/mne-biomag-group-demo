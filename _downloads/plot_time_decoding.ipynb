{
  "nbformat_minor": 0, 
  "nbformat": 4, 
  "cells": [
    {
      "execution_count": null, 
      "cell_type": "code", 
      "source": [
        "%matplotlib inline"
      ], 
      "outputs": [], 
      "metadata": {
        "collapsed": false
      }
    }, 
    {
      "source": [
        "\n# Time Decoding\n\n\nTime decoding fits a Logistic Regression model for every time point in the\nepoch. In this example, we contrast the condition 'famous' against 'scrambled'\nusing this approach. The end result is an averaging effect across sensors.\nThe contrast across different sensors are combined into a single plot.\n\n"
      ], 
      "cell_type": "markdown", 
      "metadata": {}
    }, 
    {
      "execution_count": null, 
      "cell_type": "code", 
      "source": [
        "import os.path as op\nimport mne\nimport os"
      ], 
      "outputs": [], 
      "metadata": {
        "collapsed": false
      }
    }, 
    {
      "source": [
        "We analyze only one subject. Change ``meg_dir`` to point to your directory\n\n"
      ], 
      "cell_type": "markdown", 
      "metadata": {}
    }, 
    {
      "execution_count": null, 
      "cell_type": "code", 
      "source": [
        "subject_id = 1\nsubject = \"sub%03d\" % subject_id\nuser = os.environ['USER']\nif user == 'gramfort':\n    study_path = '/tsi/doctorants/data_gramfort/dgw_faces'\n    N_JOBS = 8\nelif user == 'jleppakangas' or user == 'mjas':\n    study_path = '/tsi/doctorants/data_gramfort/dgw_faces'\n    N_JOBS = 4\nelse:\n    study_path = op.join(op.dirname(__file__), '..', '..', '..')\nsubjects_dir = os.path.join(study_path, 'subjects')\nmeg_dir = os.path.join(study_path, 'MEG')\ndata_path = op.join(meg_dir, subject)\nepochs = mne.read_epochs(op.join(data_path, '%s-epo.fif' % subject))"
      ], 
      "outputs": [], 
      "metadata": {
        "collapsed": false
      }
    }, 
    {
      "source": [
        "We define the labels for the epochs by pooling together all 'famous'\nand all 'scrambled' epochs\n\n"
      ], 
      "cell_type": "markdown", 
      "metadata": {}
    }, 
    {
      "execution_count": null, 
      "cell_type": "code", 
      "source": [
        "import numpy as np\n\nn_famous, n_unfamiliar = len(epochs['face/famous']), len(epochs['scrambled'])\ny = np.r_[np.ones((n_famous, )), np.zeros((n_unfamiliar, ))]\nepochs = mne.concatenate_epochs([epochs['face/famous'], epochs['scrambled']])"
      ], 
      "outputs": [], 
      "metadata": {
        "collapsed": false
      }
    }, 
    {
      "source": [
        "Let us restrict ourselves to the occipital channels\n\n"
      ], 
      "cell_type": "markdown", 
      "metadata": {}
    }, 
    {
      "execution_count": null, 
      "cell_type": "code", 
      "source": [
        "from mne.selection import read_selection\nch_names = [ch_name.replace(' ', '') for ch_name\n            in read_selection('occipital')]\nepochs.pick_channels(ch_names)"
      ], 
      "outputs": [], 
      "metadata": {
        "collapsed": false
      }
    }, 
    {
      "source": [
        "Now we fit and plot the time decoder\n\n"
      ], 
      "cell_type": "markdown", 
      "metadata": {}
    }, 
    {
      "execution_count": null, 
      "cell_type": "code", 
      "source": [
        "from mne.decoding import TimeDecoding\n\ntimes = dict(step=0.005) # fit a classifier only ever 5 ms\ntd = TimeDecoding(predict_mode='cross-validation', times=times)\ntd.fit(epochs, y)\ntd.score(epochs)\ntd.plot(title=\"Time decoding (famous vs. scrambled)\")"
      ], 
      "outputs": [], 
      "metadata": {
        "collapsed": false
      }
    }
  ], 
  "metadata": {
    "kernelspec": {
      "display_name": "Python 2", 
      "name": "python2", 
      "language": "python"
    }, 
    "language_info": {
      "mimetype": "text/x-python", 
      "nbconvert_exporter": "python", 
      "name": "python", 
      "file_extension": ".py", 
      "version": "2.7.12", 
      "pygments_lexer": "ipython2", 
      "codemirror_mode": {
        "version": 2, 
        "name": "ipython"
      }
    }
  }
}