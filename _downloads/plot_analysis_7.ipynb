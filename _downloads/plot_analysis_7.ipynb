{
  "nbformat_minor": 0, 
  "nbformat": 4, 
  "cells": [
    {
      "execution_count": null, 
      "cell_type": "code", 
      "source": [
        "%matplotlib inline"
      ], 
      "outputs": [], 
      "metadata": {
        "collapsed": false
      }
    }, 
    {
      "source": [
        "\n==========================================\nPlotting the analysis chain (Subject 7)\n==========================================\n\nRun the analysis.\n\n"
      ], 
      "cell_type": "markdown", 
      "metadata": {}
    }, 
    {
      "execution_count": null, 
      "cell_type": "code", 
      "source": [
        "import os\nimport os.path as op\nimport numpy as np\n\nimport mne"
      ], 
      "outputs": [], 
      "metadata": {
        "collapsed": false
      }
    }, 
    {
      "source": [
        "Configuration\n\n"
      ], 
      "cell_type": "markdown", 
      "metadata": {}
    }, 
    {
      "execution_count": null, 
      "cell_type": "code", 
      "source": [
        "user = os.environ['USER']\nif user == 'gramfort':\n    study_path = '/tsi/doctorants/data_gramfort/dgw_faces'\n    N_JOBS = 8\nelif user == 'jleppakangas' or user == 'mjas':\n    study_path = '/tsi/doctorants/data_gramfort/dgw_faces'\n    N_JOBS = 4\nelse:\n    study_path = op.join(op.dirname(__file__), '..', '..', '..')\nsubjects_dir = os.path.join(study_path, 'subjects')\nmeg_dir = os.path.join(study_path, 'MEG')\n\nsubject = \"sub%03d\" % int(7)\n\nfname = op.join(study_path, 'ds117', subject, 'MEG', 'run_01_raw.fif')\nraw = mne.io.read_raw_fif(fname)\n\nfname = op.join(meg_dir, subject, 'run_01_filt_sss_raw.fif')\nraw_filt = mne.io.read_raw_fif(fname)"
      ], 
      "outputs": [], 
      "metadata": {
        "collapsed": false
      }
    }, 
    {
      "source": [
        "Filtering\n\n"
      ], 
      "cell_type": "markdown", 
      "metadata": {}
    }, 
    {
      "execution_count": null, 
      "cell_type": "code", 
      "source": [
        "raw.plot_psd()\nraw_filt.plot_psd()"
      ], 
      "outputs": [], 
      "metadata": {
        "collapsed": false
      }
    }, 
    {
      "source": [
        "Events\n\n"
      ], 
      "cell_type": "markdown", 
      "metadata": {}
    }, 
    {
      "execution_count": null, 
      "cell_type": "code", 
      "source": [
        "events = mne.read_events(op.join(meg_dir, subject, 'run_01_filt_sss-eve.fif'))\nfig = mne.viz.plot_events(events, show=False)\nfig.suptitle('Events from run 01')\n\nepochs = mne.read_epochs(op.join(meg_dir, subject, subject + '-epo.fif'))\nepochs.plot_drop_log()"
      ], 
      "outputs": [], 
      "metadata": {
        "collapsed": false
      }
    }, 
    {
      "source": [
        "Evoked responses\n\n"
      ], 
      "cell_type": "markdown", 
      "metadata": {}
    }, 
    {
      "execution_count": null, 
      "cell_type": "code", 
      "source": [
        "evo_fname = op.join(meg_dir, subject, '%s-ave.fif' % subject)\nevoked = mne.read_evokeds(evo_fname)"
      ], 
      "outputs": [], 
      "metadata": {
        "collapsed": false
      }
    }, 
    {
      "source": [
        "Faces\n\n"
      ], 
      "cell_type": "markdown", 
      "metadata": {}
    }, 
    {
      "execution_count": null, 
      "cell_type": "code", 
      "source": [
        "famous_evo, scrambled_evo, unfamiliar_evo, contrast_evo, faces_evo = evoked\nfaces_evo.plot(spatial_colors=True, gfp=True, ylim={'eeg': (-10, 10)},\n               window_title='Faces %s' % subject)"
      ], 
      "outputs": [], 
      "metadata": {
        "collapsed": false
      }
    }, 
    {
      "source": [
        "Famous\n\n"
      ], 
      "cell_type": "markdown", 
      "metadata": {}
    }, 
    {
      "execution_count": null, 
      "cell_type": "code", 
      "source": [
        "famous_evo.plot(spatial_colors=True, gfp=True,\n                window_title='Famous %s' % subject)"
      ], 
      "outputs": [], 
      "metadata": {
        "collapsed": false
      }
    }, 
    {
      "source": [
        "Scrambled\n\n"
      ], 
      "cell_type": "markdown", 
      "metadata": {}
    }, 
    {
      "execution_count": null, 
      "cell_type": "code", 
      "source": [
        "scrambled_evo.plot(spatial_colors=True, gfp=True,\n                   window_title='Scrambled %s' % subject)"
      ], 
      "outputs": [], 
      "metadata": {
        "collapsed": false
      }
    }, 
    {
      "source": [
        "Unfamiliar\n\n"
      ], 
      "cell_type": "markdown", 
      "metadata": {}
    }, 
    {
      "execution_count": null, 
      "cell_type": "code", 
      "source": [
        "unfamiliar_evo.plot(spatial_colors=True, gfp=True,\n                    window_title='Unfamiliar %s' % subject)"
      ], 
      "outputs": [], 
      "metadata": {
        "collapsed": false
      }
    }, 
    {
      "source": [
        "Faces - scrambled\n\n"
      ], 
      "cell_type": "markdown", 
      "metadata": {}
    }, 
    {
      "execution_count": null, 
      "cell_type": "code", 
      "source": [
        "contrast_evo.plot(spatial_colors=True, gfp=True,\n                  window_title='Faces - scrambled %s' % subject)"
      ], 
      "outputs": [], 
      "metadata": {
        "collapsed": false
      }
    }, 
    {
      "source": [
        "Topomaps\n\n"
      ], 
      "cell_type": "markdown", 
      "metadata": {}
    }, 
    {
      "execution_count": null, 
      "cell_type": "code", 
      "source": [
        "times = np.arange(0.05, 0.3, 0.025)\nfamous_evo.plot_topomap(times=times, title='Famous %s' % subject)\nscrambled_evo.plot_topomap(times=times, title='Scrambled %s' % subject)\nunfamiliar_evo.plot_topomap(times=times, title='Unfamiliar %s' % subject)\ncontrast_evo.plot_topomap(times=times, title='Faces - scrambled %s' % subject)"
      ], 
      "outputs": [], 
      "metadata": {
        "collapsed": false
      }
    }, 
    {
      "source": [
        "TFR\n\n"
      ], 
      "cell_type": "markdown", 
      "metadata": {}
    }, 
    {
      "execution_count": null, 
      "cell_type": "code", 
      "source": [
        "fpower = mne.time_frequency.read_tfrs(\n    op.join(meg_dir, subject, '%s-faces-tfr.h5' % subject))[0]\nfitc = mne.time_frequency.read_tfrs(\n    op.join(meg_dir, subject, '%s-itc_faces-tfr.h5' % subject))[0]\nspower = mne.time_frequency.read_tfrs(\n    op.join(meg_dir, subject, '%s-scrambled-tfr.h5' % subject))[0]\nsitc = mne.time_frequency.read_tfrs(\n    op.join(meg_dir, subject, '%s-itc_scrambled-tfr.h5' % subject))[0]\nchannel = 'EEG070'\nidx = [fpower.ch_names.index(channel)]\nfpower.plot(idx, title='Faces power %s' % channel, baseline=(-0.1, 0.0),\n            mode='logratio')\nspower.plot(idx, title='Scrambled power %s' % channel, baseline=(-0.1, 0.0),\n            mode='logratio')\nfitc.plot(idx, title='Faces ITC %s' % channel, baseline=(-0.1, 0.0),\n          mode='logratio')\nsitc.plot(idx, title='Scrambled ITC %s' % channel, baseline=(-0.1, 0.0),\n          mode='logratio')"
      ], 
      "outputs": [], 
      "metadata": {
        "collapsed": false
      }
    }, 
    {
      "source": [
        "Covariance\n\n"
      ], 
      "cell_type": "markdown", 
      "metadata": {}
    }, 
    {
      "execution_count": null, 
      "cell_type": "code", 
      "source": [
        "cov = mne.read_cov(op.join(meg_dir, subject, '%s-cov.fif' % subject))\nmne.viz.plot_cov(cov, faces_evo.info)\nfaces_evo.plot_white(cov)"
      ], 
      "outputs": [], 
      "metadata": {
        "collapsed": false
      }
    }
  ], 
  "metadata": {
    "kernelspec": {
      "display_name": "Python 2", 
      "name": "python2", 
      "language": "python"
    }, 
    "language_info": {
      "mimetype": "text/x-python", 
      "nbconvert_exporter": "python", 
      "name": "python", 
      "file_extension": ".py", 
      "version": "2.7.12", 
      "pygments_lexer": "ipython2", 
      "codemirror_mode": {
        "version": 2, 
        "name": "ipython"
      }
    }
  }
}