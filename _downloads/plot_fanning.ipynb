{
  "cells": [
    {
      "cell_type": "code",
      "execution_count": null,
      "metadata": {
        "collapsed": false
      },
      "outputs": [],
      "source": [
        "%matplotlib inline"
      ]
    },
    {
      "cell_type": "markdown",
      "metadata": {},
      "source": [
        "\nBaselining vs. Highpass filtering\n=================================\n\nHere we compare the evokeds when we baseline it vs.\nhighpass filter it.\n\n"
      ]
    },
    {
      "cell_type": "code",
      "execution_count": null,
      "metadata": {
        "collapsed": false
      },
      "outputs": [],
      "source": [
        "import os\nimport os.path as op\nimport sys\n\nimport matplotlib.pyplot as plt\n\nimport mne\nfrom mne import Epochs\n\nsys.path.append(op.join('..', '..', 'processing'))\nfrom library.config import (study_path, meg_dir,\n                            set_matplotlib_defaults)  # noqa: E402\n\nsubject = \"sub003\"\nevent_ids = [5, 6, 7]  # Famous faces\nfilter_params = dict(fir_window='hamming', phase='zero',\n                     h_trans_bandwidth='auto', filter_length='auto',\n                     fir_design='firwin')"
      ]
    },
    {
      "cell_type": "markdown",
      "metadata": {},
      "source": [
        "Read in raw data and prepare for epoching\n\n"
      ]
    },
    {
      "cell_type": "code",
      "execution_count": null,
      "metadata": {
        "collapsed": false
      },
      "outputs": [],
      "source": [
        "raw_fname = op.join(study_path, 'ds117', subject, 'MEG', 'run_01_sss.fif')\nraw = mne.io.read_raw_fif(raw_fname, preload=True, verbose='error')\n\npicks = mne.pick_types(raw.info, meg='mag', exclude='bads')\nevents = mne.find_events(raw, stim_channel='STI101', consecutive='increasing',\n                         mask=4352, mask_type='not_and', min_duration=0.003,\n                         verbose=True)"
      ]
    },
    {
      "cell_type": "markdown",
      "metadata": {},
      "source": [
        "Just some config for plotting\n\n"
      ]
    },
    {
      "cell_type": "code",
      "execution_count": null,
      "metadata": {
        "collapsed": false
      },
      "outputs": [],
      "source": [
        "set_matplotlib_defaults(plt)\n\nylim = dict(mag=(-400, 400))\ntimes = [0, 0.12, 0.4]\n\nif not op.isdir('figures'):\n    os.mkdir('figures')"
      ]
    },
    {
      "cell_type": "markdown",
      "metadata": {},
      "source": [
        "First, we don't highpass filter and only baseline correct.\nNote how it creates a spatially varying distortation of the time-domain\nsignal in the formof \"fanning\".\n\n"
      ]
    },
    {
      "cell_type": "code",
      "execution_count": null,
      "metadata": {
        "collapsed": false
      },
      "outputs": [],
      "source": [
        "raw.filter(None, 40, **filter_params)\nevoked = Epochs(raw, events, event_id=event_ids, picks=picks,\n                baseline=(None, 0)).average()\nfig = evoked.plot_joint(times=times, title=None,\n                        ts_args=dict(ylim=ylim, spatial_colors=True),\n                        topomap_args=dict(vmin=-300, vmax=300))\nfig.set_size_inches(12, 6, forward=True)\nfig.savefig(op.join('..', 'figures', 'FanningA.pdf'), bbox_to_inches='tight')"
      ]
    },
    {
      "cell_type": "markdown",
      "metadata": {},
      "source": [
        "Next, we highpass filter (but no lowpass filter as we have already done it)\nbut don't baseline. Now, the late effects in the topography are no longer\nvisible (see above) and the \"fanning\" has disappeared.\n\n"
      ]
    },
    {
      "cell_type": "code",
      "execution_count": null,
      "metadata": {
        "collapsed": false
      },
      "outputs": [],
      "source": [
        "raw.filter(1, None, l_trans_bandwidth=0.5, **filter_params)\nevoked = Epochs(raw, events, event_id=event_ids, picks=picks,\n                baseline=None).average()\nfig = evoked.plot_joint(times=times, title=None,\n                        ts_args=dict(ylim=ylim, spatial_colors=True),\n                        topomap_args=dict(vmin=-300, vmax=300))\nfig.set_size_inches(12, 6, forward=True)\nfig.savefig(op.join('..', 'figures', 'FanningB.pdf'), bbox_to_inches='tight')"
      ]
    },
    {
      "cell_type": "markdown",
      "metadata": {},
      "source": [
        "Finally, we can also use the tSSS data which has a highpass\nfiltering effect and the \"fanning\" will not be visible also in this case.\nSee `sphx_glr_auto_scripts_03-maxwell_filtering.py`.\n\n"
      ]
    },
    {
      "cell_type": "code",
      "execution_count": null,
      "metadata": {
        "collapsed": false
      },
      "outputs": [],
      "source": [
        "raw_fname = op.join(meg_dir, subject, 'run_01_filt_tsss_1_raw.fif')\nraw = mne.io.read_raw_fif(raw_fname, preload=True)\nevoked = Epochs(raw, events, event_id=event_ids, picks=picks,\n                baseline=(None, 0)).average()\nfig = evoked.plot_joint(times=times, title=None,\n                        ts_args=dict(ylim=ylim, spatial_colors=True),\n                        topomap_args=dict(vmin=-300, vmax=300))\nfig.set_size_inches(12, 6, forward=True)\nfig.savefig(op.join('..', 'figures', 'FanningC.pdf'), bbox_to_inches='tight')"
      ]
    }
  ],
  "metadata": {
    "kernelspec": {
      "display_name": "Python 3",
      "language": "python",
      "name": "python3"
    },
    "language_info": {
      "codemirror_mode": {
        "name": "ipython",
        "version": 3
      },
      "file_extension": ".py",
      "mimetype": "text/x-python",
      "name": "python",
      "nbconvert_exporter": "python",
      "pygments_lexer": "ipython3",
      "version": "3.6.2"
    }
  },
  "nbformat": 4,
  "nbformat_minor": 0
}