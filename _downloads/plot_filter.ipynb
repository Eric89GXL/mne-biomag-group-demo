{
  "nbformat_minor": 0, 
  "nbformat": 4, 
  "cells": [
    {
      "execution_count": null, 
      "cell_type": "code", 
      "source": [
        "%matplotlib inline"
      ], 
      "outputs": [], 
      "metadata": {
        "collapsed": false
      }
    }, 
    {
      "source": [
        "\nSelect filters\n==============\n\nHere we look at the choice of filters both for low and high\npass.\n\n"
      ], 
      "cell_type": "markdown", 
      "metadata": {}
    }, 
    {
      "execution_count": null, 
      "cell_type": "code", 
      "source": [
        "import numpy as np\nfrom scipy import signal\nimport matplotlib.pyplot as plt\n\nsfreq = 1100.\nylim = [-40, 10]  # for dB plots\nxlim = dict(highpass=[0, 4.], lowpass=[35, 55])\n\n\ndef box_off(ax):\n    \"\"\"Helper to beautify plot.\"\"\"\n    ax.grid(zorder=0)\n    for key in ('top', 'right'):\n        ax.spines[key].set_visible(False)\n\n\ndef design_filter(label, f_p, transition_band, filter_dur, window):\n    if label == 'highpass':\n        f_s = f_p - transition_band\n        # design the filter\n        freq = [0., f_s, f_p, sfreq / 2.]\n        gain = [0., 0., 1., 1.]\n    else:\n        f_s = f_p + transition_band\n        # design the filter\n        freq = [0., f_p, f_s, sfreq / 2.]\n        gain = [1., 1., 0., 0.]\n\n    n = int(sfreq * filter_dur)\n    n += ~(n % 2)  # Type II filter can't have 0 attenuation at nyq\n\n    h = signal.firwin2(n, freq, gain, nyq=sfreq / 2., window=window)\n    return h\n\n\ndef plot_filter(ax, h, xlim, label):\n    # plot freqency response\n    f, H = signal.freqz(h)\n    f *= sfreq / (2 * np.pi)\n    ax.plot(f, 20 * np.log10(np.abs(H)),\n            linewidth=2, zorder=4, label=label)\n    ax.set(xlim=xlim, ylim=ylim, xlabel='Frequency (Hz)')\n    box_off(ax)\n\n\nfig, axes = plt.subplots(1, 2, sharey=True, figsize=(12, 4))\nf_ps = [1., 40.]\nlabels = ['highpass', 'lowpass']\nfor ax, f_p, label in zip(axes, f_ps, labels):\n    # MNE old defaults\n    transition_band = 0.5  # Hz\n    filter_dur = 10.  # seconds\n    window = 'hann'\n    h = design_filter(label, f_p, transition_band, filter_dur, window)\n    plot_filter(ax, h, xlim[label],\n                label='MNE (0.12)' + ('' if label == 'lowpass' else ' (Used)'))\n\n    # MNE new defaults\n    if label == \"highpass\":\n        transition_band = min(max(0.25 * f_p, 2.), f_p)  # Hz\n        ideal_gain = [0, 0, 1, 1]\n    else:\n        transition_band = min(max(0.25 * f_p, 2.), sfreq / 2. - f_p)  # Hz\n        ideal_gain = [1, 1, 0, 0]\n\n    filter_dur = 6.6 / transition_band  # sec\n    window = 'hamming'\n    h = design_filter(label, f_p, transition_band, filter_dur, window)\n    plot_filter(ax, h, xlim[label],\n                label='MNE (0.13)' + ('' if label == 'highpass' else ' (Used)'))\n\n    ideal_freq = [0, f_p, f_p, sfreq / 2.]\n    ideal_gain = np.array(ideal_gain, dtype=float)\n    ideal_gain[ideal_gain == 0.] = 10 ** (ylim[0] / 20)\n    ax.plot(ideal_freq, 20 * np.log10(ideal_gain), 'r--', alpha=0.5, linewidth=4,\n            zorder=3, label='Ideal')\n    ax.legend()\n    ax.set_title(label + \" (cutoff %s Hz)\" % f_p)\n\naxes[0].set_ylabel('Amplitude (dB)')\nplt.tight_layout()\nplt.show()"
      ], 
      "outputs": [], 
      "metadata": {
        "collapsed": false
      }
    }
  ], 
  "metadata": {
    "kernelspec": {
      "display_name": "Python 2", 
      "name": "python2", 
      "language": "python"
    }, 
    "language_info": {
      "mimetype": "text/x-python", 
      "nbconvert_exporter": "python", 
      "name": "python", 
      "file_extension": ".py", 
      "version": "2.7.12", 
      "pygments_lexer": "ipython2", 
      "codemirror_mode": {
        "version": 2, 
        "name": "ipython"
      }
    }
  }
}