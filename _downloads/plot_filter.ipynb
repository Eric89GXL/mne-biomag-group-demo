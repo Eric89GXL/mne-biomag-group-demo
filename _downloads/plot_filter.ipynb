{
  "nbformat_minor": 0, 
  "nbformat": 4, 
  "cells": [
    {
      "execution_count": null, 
      "cell_type": "code", 
      "source": [
        "%matplotlib inline"
      ], 
      "outputs": [], 
      "metadata": {
        "collapsed": false
      }
    }, 
    {
      "source": [
        "\nSelect filters\n==============\n\nHere we look at the choice of filters both for low and high\npass.\n\n"
      ], 
      "cell_type": "markdown", 
      "metadata": {}
    }, 
    {
      "execution_count": null, 
      "cell_type": "code", 
      "source": [
        "import numpy as np\nfrom scipy import signal\nimport matplotlib.pyplot as plt\n\nsfreq = 1100."
      ], 
      "outputs": [], 
      "metadata": {
        "collapsed": false
      }
    }, 
    {
      "source": [
        "The defaults in MNE 0.13 are slightly different from the defaults in\nMNE 0.14. We define a convenience function to get the defaults for each\nversion. For more detailed information regarding these choices, head over\nto the `filtering tutorial <http://mne-tools.github.io/stable/auto_tutorials/plot_background_filtering.html>`_\non the MNE website.\n\n"
      ], 
      "cell_type": "markdown", 
      "metadata": {}
    }, 
    {
      "execution_count": null, 
      "cell_type": "code", 
      "source": [
        "def get_filter_defaults(version, filter_type):\n    window = 'hann'\n    if version == '0.12':\n        f_w = 0.5  # Transition band (Hz)\n        filter_dur = 10.  # seconds\n    elif version == '0.13':\n        if filter_type == 'highpass':\n            f_w = min(max(0.25 * f_p, 2.), f_p)  # Hz\n        else:\n            f_w = min(max(0.25 * f_p, 2.), sfreq / 2. - f_p)  # Hz\n        filter_dur = 6.6 / f_w  # sec\n\n    return window, f_w, filter_dur"
      ], 
      "outputs": [], 
      "metadata": {
        "collapsed": false
      }
    }, 
    {
      "source": [
        "Then, we define a function to design the filters using\n:func:`scipy.signal.firwin2`.\n\n"
      ], 
      "cell_type": "markdown", 
      "metadata": {}
    }, 
    {
      "execution_count": null, 
      "cell_type": "code", 
      "source": [
        "def design_filter(filter_type, f_p, f_w, filter_dur, window):\n    if filter_type == 'highpass':\n        f_s = f_p - f_w\n        freq = [0., f_s, f_p, sfreq / 2.]\n        gain = [0., 0., 1., 1.]\n    else:\n        f_s = f_p + f_w\n        freq = [0., f_p, f_s, sfreq / 2.]\n        gain = [1., 1., 0., 0.]\n\n    n = int(sfreq * filter_dur)\n    n += ~(n % 2)  # Type II filter can't have 0 attenuation at nyq\n\n    h = signal.firwin2(n, freq, gain, nyq=sfreq / 2., window=window)\n    return h"
      ], 
      "outputs": [], 
      "metadata": {
        "collapsed": false
      }
    }, 
    {
      "source": [
        "To choose our filters, we plot the frequency response of the filter (in dB).\nHigher attenuation is good for reducing noise.\n\n"
      ], 
      "cell_type": "markdown", 
      "metadata": {}
    }, 
    {
      "execution_count": null, 
      "cell_type": "code", 
      "source": [
        "def plot_filter_response(ax, h, xlim, label):\n    f, H = signal.freqz(h)\n    f *= sfreq / (2 * np.pi)\n    ax.plot(f, 20 * np.log10(np.abs(H)),\n            linewidth=2, zorder=4, label=label)\n    ax.set(xlim=xlim, ylim=ylim, xlabel='Frequency (Hz)',\n           ylabel='Amplitude (dB)')\n    ax.legend()\n    box_off(ax)"
      ], 
      "outputs": [], 
      "metadata": {
        "collapsed": false
      }
    }, 
    {
      "source": [
        "However, filters can introduce ripples in the time domain. So, we also plot\nthe impulse response ``h`` of the filter.\n\n"
      ], 
      "cell_type": "markdown", 
      "metadata": {}
    }, 
    {
      "execution_count": null, 
      "cell_type": "code", 
      "source": [
        "def plot_impulse_response(ax, h, label):\n    dur = 10.\n    h_plot = np.zeros((int(dur * sfreq), ))\n    start = len(h_plot) // 2 - len(h) // 2\n    stop = start + len(h)\n    h_plot[start:stop] = h\n    t = np.arange(len(h_plot)) / sfreq - dur / 2\n    ax.plot(t, h_plot, linewidth=2, label=label)\n    ax.set(xlim=(-0.1, 0.1), xlabel='Time (s)', ylabel='Amplitude of h')\n    ax.legend()\n    box_off(ax)"
      ], 
      "outputs": [], 
      "metadata": {
        "collapsed": false
      }
    }, 
    {
      "source": [
        "Before we start plotting, let us define a simple function to turn off boxes\nin a plot. It takes as argument the axis handle ``ax``.\n\n"
      ], 
      "cell_type": "markdown", 
      "metadata": {}
    }, 
    {
      "execution_count": null, 
      "cell_type": "code", 
      "source": [
        "def box_off(ax):\n    \"\"\"Helper to beautify plot.\"\"\"\n    ax.grid(zorder=0)\n    for key in ('top', 'right'):\n        ax.spines[key].set_visible(False)"
      ], 
      "outputs": [], 
      "metadata": {
        "collapsed": false
      }
    }, 
    {
      "source": [
        "Now we plot the frequency response and impulse response for the lowpass\nand highpass filters in MNE versions 0.12 and 0.13.\n\n"
      ], 
      "cell_type": "markdown", 
      "metadata": {}
    }, 
    {
      "execution_count": null, 
      "cell_type": "code", 
      "source": [
        "fig, axes = plt.subplots(2, 2, figsize=(12, 8))\n\nxlim = dict(highpass=[0, 4.], lowpass=[35, 55])\nylim = [-40, 10]  # for dB plots\nf_ps = [1., 40.]\nfilter_types = ['highpass', 'lowpass']\n\nfor ax, f_p, filter_type in zip(axes.T, f_ps, filter_types):\n\n    # MNE old defaults\n    window, f_w, filter_dur = get_filter_defaults('0.12', filter_type)\n    h = design_filter(filter_type, f_p, f_w, filter_dur, window)\n    lbl = 'MNE (0.12)' + ('' if filter_type == 'lowpass' else ' (Used)')\n    plot_filter_response(ax[0], h, xlim[filter_type], label=lbl)\n    plot_impulse_response(ax[1], h, lbl)\n\n    # MNE new defaults\n    window, f_w, filter_dur = get_filter_defaults('0.13', filter_type)\n    h = design_filter(filter_type, f_p, f_w, filter_dur, window)\n    lbl = 'MNE (0.13)' + ('' if filter_type == 'highpass' else ' (Used)')\n    plot_filter_response(ax[0], h, xlim[filter_type], label=lbl)\n    plot_impulse_response(ax[1], h, label=lbl)\n\n    # Ideal gain\n    if filter_type == \"highpass\":\n        ideal_gain = [0, 0, 1, 1]\n    else:\n        ideal_gain = [1, 1, 0, 0]\n    ideal_freq = [0, f_p, f_p, sfreq / 2.]\n    ideal_gain = np.array(ideal_gain, dtype=float)\n    ideal_gain[ideal_gain == 0.] = 10 ** (ylim[0] / 20)\n    ax[0].plot(ideal_freq, 20 * np.log10(ideal_gain), 'r--', alpha=0.5,\n               linewidth=4, zorder=3, label='Ideal')\n\n    ax[0].set_title(filter_type + \" (cutoff %s Hz)\" % f_p)\n\nplt.tight_layout()\nplt.show()"
      ], 
      "outputs": [], 
      "metadata": {
        "collapsed": false
      }
    }
  ], 
  "metadata": {
    "kernelspec": {
      "display_name": "Python 2", 
      "name": "python2", 
      "language": "python"
    }, 
    "language_info": {
      "mimetype": "text/x-python", 
      "nbconvert_exporter": "python", 
      "name": "python", 
      "file_extension": ".py", 
      "version": "2.7.12", 
      "pygments_lexer": "ipython2", 
      "codemirror_mode": {
        "version": 2, 
        "name": "ipython"
      }
    }
  }
}