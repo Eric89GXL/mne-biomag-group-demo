{
  "nbformat_minor": 0, 
  "nbformat": 4, 
  "cells": [
    {
      "execution_count": null, 
      "cell_type": "code", 
      "source": [
        "%matplotlib inline"
      ], 
      "outputs": [], 
      "metadata": {
        "collapsed": false
      }
    }, 
    {
      "source": [
        "\nFiltering\n=========\n\nPlot filter properties.\n\n"
      ], 
      "cell_type": "markdown", 
      "metadata": {}
    }, 
    {
      "execution_count": null, 
      "cell_type": "code", 
      "source": [
        "import numpy as np\nimport matplotlib.pyplot as plt\nimport os.path as op\n\nimport mne\n\nfrom library.config import study_path\n\nfilt_params = dict(l_trans_bandwidth='auto', h_trans_bandwidth='auto',\n                   filter_length='auto', phase='zero', fir_window='hann')"
      ], 
      "outputs": [], 
      "metadata": {
        "collapsed": false
      }
    }, 
    {
      "source": [
        "Let's look at some data from the multimodal faces data set.\nFirst we read in the data from run 1 of subject 2.\n\n"
      ], 
      "cell_type": "markdown", 
      "metadata": {}
    }, 
    {
      "execution_count": null, 
      "cell_type": "code", 
      "source": [
        "raw = mne.io.read_raw_fif(op.join(study_path, 'ds117', 'sub002', 'MEG',\n                                  'run_01_sss.fif'), add_eeg_ref=False)\n\nraw.set_channel_types({'EEG061': 'eog', 'EEG062': 'eog', 'EEG063': 'ecg',\n                       'EEG064': 'misc'})  # EEG064 free floating el.\nraw.rename_channels({'EEG061': 'EOG061', 'EEG062': 'EOG062',\n                     'EEG063': 'ECG063'})\nraw.set_eeg_reference()"
      ], 
      "outputs": [], 
      "metadata": {
        "collapsed": false
      }
    }, 
    {
      "source": [
        "Then we filter it at 1Hz with the defaults of MNE.\n\n"
      ], 
      "cell_type": "markdown", 
      "metadata": {}
    }, 
    {
      "execution_count": null, 
      "cell_type": "code", 
      "source": [
        "raw_1 = raw.copy()\nraw_1.load_data()\nraw_1.filter(1, 40, **filt_params)\n\nraw_1.plot_psd(fmax=10)"
      ], 
      "outputs": [], 
      "metadata": {
        "collapsed": false
      }
    }, 
    {
      "source": [
        "We see that even though the attenuation close to 0Hz is sufficient enough,\nthe low frequency components at around 1Hz are still quite prominent. Lets\nsee how the famous faces look after averaging. (Notice that we do not\ncompensate for the delay or clean the data, so the figures are not comparable\nto the final results).\n\n"
      ], 
      "cell_type": "markdown", 
      "metadata": {}
    }, 
    {
      "execution_count": null, 
      "cell_type": "code", 
      "source": [
        "events = mne.find_events(raw_1)\nevent_ids = [5, 6, 7]  # Famous faces\nevoked_1 = mne.Epochs(raw_1, events, event_id=event_ids,\n                      baseline=None).average()\nevoked_1.plot(spatial_colors=True)"
      ], 
      "outputs": [], 
      "metadata": {
        "collapsed": false
      }
    }, 
    {
      "source": [
        "They're all over the place! The baselining effect of high-pass filtering does\nnot seem to work. Let's try removing the low frequency components by raising\nthe cut-off frequency to 2.5 Hz.\n\n"
      ], 
      "cell_type": "markdown", 
      "metadata": {}
    }, 
    {
      "execution_count": null, 
      "cell_type": "code", 
      "source": [
        "raw_2 = raw.copy()\nraw_2.load_data()\nraw_2.filter(2.5, 40, **filt_params)\nraw_2.plot_psd(fmax=10)"
      ], 
      "outputs": [], 
      "metadata": {
        "collapsed": false
      }
    }, 
    {
      "source": [
        "We see that the low frequency 'peak' is gone and the transition is more\ngradual. The 'auto' param automatically fits the transition bandwidth to\nreduce ringing as much as possible.\nFinally we plot the evoked responses, and we see that the fanning of the\nsignal is gone.\n\n"
      ], 
      "cell_type": "markdown", 
      "metadata": {}
    }, 
    {
      "execution_count": null, 
      "cell_type": "code", 
      "source": [
        "evoked_2 = mne.Epochs(raw_2, events, event_id=event_ids,\n                      baseline=None).average()\nevoked_2.plot(spatial_colors=True)"
      ], 
      "outputs": [], 
      "metadata": {
        "collapsed": false
      }
    }, 
    {
      "source": [
        "Let's also plot the impulse response of the used filter. Here we create some\ndata with 30000 samples of zeros with an impulse at the middle. Then we\nconstruct a raw data structure and set a sampling frequency to 1000. Thus,\nwe have 30 seconds of data with an impulse at 15 seconds.\n\n"
      ], 
      "cell_type": "markdown", 
      "metadata": {}
    }, 
    {
      "execution_count": null, 
      "cell_type": "code", 
      "source": [
        "n_samples = 30000\nsfreq = 1000\ninfo = mne.create_info(ch_names=['test'], sfreq=sfreq, ch_types=['eeg'])\ndata = np.zeros(n_samples)\ndata[n_samples // 2] = 1e-6\ntimes = np.linspace(0, n_samples // sfreq, n_samples)\nraw = mne.io.RawArray(np.array([data]), info)"
      ], 
      "outputs": [], 
      "metadata": {
        "collapsed": false
      }
    }, 
    {
      "source": [
        "We low-pass filter the data and plot the frequency spectrum and the impulse\nresponse of the filter.\n\n"
      ], 
      "cell_type": "markdown", 
      "metadata": {}
    }, 
    {
      "execution_count": null, 
      "cell_type": "code", 
      "source": [
        "raw_1 = raw.copy()\nraw_1.filter(None, 40, **filt_params)\nplt.plot(times, raw_1[0][0][0])\nplt.xlabel('Time (s)')\nplt.ylabel('Amplitude')\nplt.title('Impulse response')\nplt.xlim((14, 16))\nplt.show()\nraw_1.plot_psd(fmin=20, fmax=60)"
      ], 
      "outputs": [], 
      "metadata": {
        "collapsed": false
      }
    }, 
    {
      "source": [
        "Let's do the same after high-pass filtering at 2.5 Hz.\n\n"
      ], 
      "cell_type": "markdown", 
      "metadata": {}
    }, 
    {
      "execution_count": null, 
      "cell_type": "code", 
      "source": [
        "raw_1.filter(2.5, None, **filt_params)\nplt.plot(times, raw_1[0][0][0])\nplt.xlabel('Time (s)')\nplt.ylabel('Amplitude')\nplt.title('Impulse response')\nplt.xlim((14, 16))\nplt.show()\nraw_1.plot_psd(fmax=10)"
      ], 
      "outputs": [], 
      "metadata": {
        "collapsed": false
      }
    }, 
    {
      "source": [
        "We see that with the old defaults (MNE versions < 0.13) the transition is\nmuch steeper.\n\n"
      ], 
      "cell_type": "markdown", 
      "metadata": {}
    }, 
    {
      "execution_count": null, 
      "cell_type": "code", 
      "source": [
        "raw.filter(2.5, 40, l_trans_bandwidth=0.5)\nplt.plot(times, raw[0][0][0])\nplt.xlabel('Time (s)')\nplt.ylabel('Amplitude')\nplt.title('Impulse response')\nplt.xlim((14, 16))\nplt.show()\nraw.plot_psd(fmax=10)"
      ], 
      "outputs": [], 
      "metadata": {
        "collapsed": false
      }
    }
  ], 
  "metadata": {
    "kernelspec": {
      "display_name": "Python 2", 
      "name": "python2", 
      "language": "python"
    }, 
    "language_info": {
      "mimetype": "text/x-python", 
      "nbconvert_exporter": "python", 
      "name": "python", 
      "file_extension": ".py", 
      "version": "2.7.12", 
      "pygments_lexer": "ipython2", 
      "codemirror_mode": {
        "version": 2, 
        "name": "ipython"
      }
    }
  }
}