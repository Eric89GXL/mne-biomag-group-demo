{
  "nbformat_minor": 0, 
  "nbformat": 4, 
  "cells": [
    {
      "execution_count": null, 
      "cell_type": "code", 
      "source": [
        "%matplotlib inline"
      ], 
      "outputs": [], 
      "metadata": {
        "collapsed": false
      }
    }, 
    {
      "source": [
        "\nFiltering\n=========\n\nPlot filter properties.\n\n"
      ], 
      "cell_type": "markdown", 
      "metadata": {}
    }, 
    {
      "execution_count": null, 
      "cell_type": "code", 
      "source": [
        "import numpy as np\nimport matplotlib.pyplot as plt\n\nimport mne"
      ], 
      "outputs": [], 
      "metadata": {
        "collapsed": false
      }
    }, 
    {
      "source": [
        "First we create some data with 30000 samples of zeros with an impulse at the\nmiddle. Then we construct a raw data structure and set a sampling frequency\nto 1000. Thus, we have 20 seconds of data with an impulse at 15 seconds.\n\n"
      ], 
      "cell_type": "markdown", 
      "metadata": {}
    }, 
    {
      "execution_count": null, 
      "cell_type": "code", 
      "source": [
        "n_samples = 30000\nsfreq = 1000\ninfo = mne.create_info(ch_names=['test'], sfreq=sfreq, ch_types=['eeg'])\ndata = np.zeros(n_samples)\ndata[n_samples // 2] = 1e-6\ntimes = np.linspace(0, n_samples // sfreq, n_samples)\nraw = mne.io.RawArray(np.array([data]), info)"
      ], 
      "outputs": [], 
      "metadata": {
        "collapsed": false
      }
    }, 
    {
      "source": [
        "We lowpass filter the data and plot the frequency spectrum and the impulse\nresponse of the filter.\n\n"
      ], 
      "cell_type": "markdown", 
      "metadata": {}
    }, 
    {
      "execution_count": null, 
      "cell_type": "code", 
      "source": [
        "raw.filter(None, 40)\nplt.plot(times, raw[0][0][0])\nplt.xlabel('Time (s)')\nplt.ylabel('Amplitude')\nplt.title('Impulse response')\nplt.show()\nraw.plot_psd(fmin=20, fmax=60)"
      ], 
      "outputs": [], 
      "metadata": {
        "collapsed": false
      }
    }, 
    {
      "source": [
        "Let's do the same after highpass filtering at 1 Hz.\n\n"
      ], 
      "cell_type": "markdown", 
      "metadata": {}
    }, 
    {
      "execution_count": null, 
      "cell_type": "code", 
      "source": [
        "raw.filter(1, None)\nplt.plot(times, raw[0][0][0])\nplt.xlabel('Time (s)')\nplt.ylabel('Amplitude')\nplt.title('Impulse response')\nplt.show()\nraw.plot_psd(fmax=10)"
      ], 
      "outputs": [], 
      "metadata": {
        "collapsed": false
      }
    }
  ], 
  "metadata": {
    "kernelspec": {
      "display_name": "Python 2", 
      "name": "python2", 
      "language": "python"
    }, 
    "language_info": {
      "mimetype": "text/x-python", 
      "nbconvert_exporter": "python", 
      "name": "python", 
      "file_extension": ".py", 
      "version": "2.7.12", 
      "pygments_lexer": "ipython2", 
      "codemirror_mode": {
        "version": 2, 
        "name": "ipython"
      }
    }
  }
}