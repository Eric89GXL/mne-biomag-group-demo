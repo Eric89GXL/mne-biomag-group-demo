{
  "cells": [
    {
      "cell_type": "code",
      "execution_count": null,
      "metadata": {
        "collapsed": false
      },
      "outputs": [],
      "source": [
        "%matplotlib inline"
      ]
    },
    {
      "cell_type": "markdown",
      "metadata": {},
      "source": [
        "\n# Analysis for one subject with tSSS\n\n\nShow analysis of tSSS data.\n\n"
      ]
    },
    {
      "cell_type": "code",
      "execution_count": null,
      "metadata": {
        "collapsed": false
      },
      "outputs": [],
      "source": [
        "import os.path as op\nimport sys\n\nimport numpy as np\n\nimport mne\n\nsys.path.append(op.join('..', '..', 'processing'))\nfrom library.config import study_path, meg_dir, ylim  # noqa: E402"
      ]
    },
    {
      "cell_type": "markdown",
      "metadata": {},
      "source": [
        "Configuration\n\n"
      ]
    },
    {
      "cell_type": "code",
      "execution_count": null,
      "metadata": {
        "collapsed": false
      },
      "outputs": [],
      "source": [
        "subjects_dir = op.join(study_path, 'subjects')\n\nsubject = \"sub003\"\nsubject_dir = op.join(meg_dir, subject)\nst_duration = 1"
      ]
    },
    {
      "cell_type": "markdown",
      "metadata": {},
      "source": [
        "Continuous data\n\n"
      ]
    },
    {
      "cell_type": "code",
      "execution_count": null,
      "metadata": {
        "collapsed": false
      },
      "outputs": [],
      "source": [
        "raw_fname = op.join(study_path, 'ds117', subject, 'MEG', 'run_01_raw.fif')\nraw_filt_fname = op.join(subject_dir,\n                         'run_01_filt_tsss_%d_raw.fif' % st_duration)\n\nraw = mne.io.read_raw_fif(raw_fname)\nraw_filt = mne.io.read_raw_fif(raw_filt_fname)"
      ]
    },
    {
      "cell_type": "markdown",
      "metadata": {},
      "source": [
        "Filtering `sphx_glr_auto_scripts_04-python_filtering.py`.\n\n"
      ]
    },
    {
      "cell_type": "code",
      "execution_count": null,
      "metadata": {
        "collapsed": false
      },
      "outputs": [],
      "source": [
        "raw.plot_psd(n_fft=8192, average=False, xscale='log', show=False)\nraw_filt.plot_psd(n_fft=8192, average=False, xscale='log')"
      ]
    },
    {
      "cell_type": "markdown",
      "metadata": {},
      "source": [
        "Events `sphx_glr_auto_scripts_02-extract_events.py`.\nEpochs `sphx_glr_auto_scripts_06-make_epochs.py`.\n\n"
      ]
    },
    {
      "cell_type": "code",
      "execution_count": null,
      "metadata": {
        "collapsed": false
      },
      "outputs": [],
      "source": [
        "eve_fname = op.join(subject_dir, 'run_01_filt_sss-eve.fif')\nepo_fname = op.join(subject_dir, '%s-tsss_%d-epo.fif' % (subject, st_duration))\n\nevents = mne.read_events(eve_fname)\nfig = mne.viz.plot_events(events, show=False)\nfig.suptitle('Events from run 01')\n\nepochs = mne.read_epochs(epo_fname)\nepochs.plot_drop_log()"
      ]
    },
    {
      "cell_type": "markdown",
      "metadata": {},
      "source": [
        "Evoked responses `sphx_glr_auto_scripts_07-make_evoked.py`\n\n"
      ]
    },
    {
      "cell_type": "code",
      "execution_count": null,
      "metadata": {
        "collapsed": false
      },
      "outputs": [],
      "source": [
        "ave_fname = op.join(subject_dir, '%s-tsss_%d-ave.fif' % (subject, st_duration))\nevoked = mne.read_evokeds(ave_fname)"
      ]
    },
    {
      "cell_type": "markdown",
      "metadata": {},
      "source": [
        "Faces\n\n"
      ]
    },
    {
      "cell_type": "code",
      "execution_count": null,
      "metadata": {
        "collapsed": false
      },
      "outputs": [],
      "source": [
        "famous_evo, scrambled_evo, unfamiliar_evo, contrast_evo, faces_evo = evoked[:5]\nfaces_evo.plot(spatial_colors=True, gfp=True, ylim=ylim,\n               window_title='Faces %s' % subject)"
      ]
    },
    {
      "cell_type": "markdown",
      "metadata": {},
      "source": [
        "Famous\n\n"
      ]
    },
    {
      "cell_type": "code",
      "execution_count": null,
      "metadata": {
        "collapsed": false
      },
      "outputs": [],
      "source": [
        "famous_evo.plot(spatial_colors=True, gfp=True, ylim=ylim,\n                window_title='Famous %s' % subject)"
      ]
    },
    {
      "cell_type": "markdown",
      "metadata": {},
      "source": [
        "Scrambled\n\n"
      ]
    },
    {
      "cell_type": "code",
      "execution_count": null,
      "metadata": {
        "collapsed": false
      },
      "outputs": [],
      "source": [
        "scrambled_evo.plot(spatial_colors=True, gfp=True, ylim=ylim,\n                   window_title='Scrambled %s' % subject)"
      ]
    },
    {
      "cell_type": "markdown",
      "metadata": {},
      "source": [
        "Unfamiliar\n\n"
      ]
    },
    {
      "cell_type": "code",
      "execution_count": null,
      "metadata": {
        "collapsed": false
      },
      "outputs": [],
      "source": [
        "unfamiliar_evo.plot(spatial_colors=True, gfp=True, ylim=ylim,\n                    window_title='Unfamiliar %s' % subject)"
      ]
    },
    {
      "cell_type": "markdown",
      "metadata": {},
      "source": [
        "Faces - scrambled\n\n"
      ]
    },
    {
      "cell_type": "code",
      "execution_count": null,
      "metadata": {
        "collapsed": false
      },
      "outputs": [],
      "source": [
        "contrast_evo.plot(spatial_colors=True, gfp=True, ylim=ylim,\n                  window_title='Faces - scrambled %s' % subject)"
      ]
    },
    {
      "cell_type": "markdown",
      "metadata": {},
      "source": [
        "Topomaps\n\n"
      ]
    },
    {
      "cell_type": "code",
      "execution_count": null,
      "metadata": {
        "collapsed": false
      },
      "outputs": [],
      "source": [
        "times = np.arange(0.05, 0.3, 0.025)\nfamous_evo.plot_topomap(times=times, title='Famous %s' % subject,\n                        show=False)\nscrambled_evo.plot_topomap(times=times, title='Scrambled %s' % subject,\n                           show=False)\nunfamiliar_evo.plot_topomap(times=times, title='Unfamiliar %s' % subject,\n                            show=False)\ncontrast_evo.plot_topomap(times=times, title='Faces - scrambled %s' % subject,\n                          show=True)"
      ]
    },
    {
      "cell_type": "markdown",
      "metadata": {},
      "source": [
        "Covariance `sphx_glr_auto_scripts_07-make_evoked.py`.\n\n"
      ]
    },
    {
      "cell_type": "code",
      "execution_count": null,
      "metadata": {
        "collapsed": false
      },
      "outputs": [],
      "source": [
        "cov_fname = op.join(subject_dir,\n                    '%s-tsss_%d-cov.fif' % (subject, st_duration))\ncov = mne.read_cov(cov_fname)\nmne.viz.plot_cov(cov, faces_evo.info)\nfaces_evo.copy().apply_baseline().plot_white(cov)"
      ]
    }
  ],
  "metadata": {
    "kernelspec": {
      "display_name": "Python 3",
      "language": "python",
      "name": "python3"
    },
    "language_info": {
      "codemirror_mode": {
        "name": "ipython",
        "version": 3
      },
      "file_extension": ".py",
      "mimetype": "text/x-python",
      "name": "python",
      "nbconvert_exporter": "python",
      "pygments_lexer": "ipython3",
      "version": "3.6.2"
    }
  },
  "nbformat": 4,
  "nbformat_minor": 0
}