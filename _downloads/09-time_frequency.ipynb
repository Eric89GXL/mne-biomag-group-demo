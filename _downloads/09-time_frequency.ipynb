{
  "cells": [
    {
      "cell_type": "code",
      "execution_count": null,
      "metadata": {
        "collapsed": false
      },
      "outputs": [],
      "source": [
        "%matplotlib inline"
      ]
    },
    {
      "cell_type": "markdown",
      "metadata": {},
      "source": [
        "\nTime-frequency representation\n=============================\n\nThe epoched data is transformed to time-frequency domain using morlet wavelets.\nFaces and scrambled data sets are used and for both of them, the average power\nand inter-trial coherence are computed and saved to disk. Only channel 'EEG070'\nis used to save time.\n\n"
      ]
    },
    {
      "cell_type": "code",
      "execution_count": null,
      "metadata": {
        "collapsed": false
      },
      "outputs": [],
      "source": [
        "import os.path as op\nimport numpy as np\n\nimport mne\nfrom mne.parallel import parallel_func\n\nfrom library.config import meg_dir, N_JOBS\n\nfreqs = np.arange(6, 40)\nn_cycles = freqs / 2.\n\n\ndef run_time_frequency(subject_id):\n    print(\"processing subject: %s\" % subject_id)\n    subject = \"sub%03d\" % subject_id\n    data_path = op.join(meg_dir, subject)\n    epochs = mne.read_epochs(op.join(data_path, '%s_highpass-1Hz-epo.fif'\n                                     % subject))\n\n    faces = epochs['face']\n    idx = [faces.ch_names.index('EEG065')]\n    power_faces, itc_faces = mne.time_frequency.tfr_morlet(\n        faces, freqs=freqs, return_itc=True, n_cycles=n_cycles, picks=idx)\n    power_scrambled, itc_scrambled = mne.time_frequency.tfr_morlet(\n        epochs['scrambled'], freqs=freqs, return_itc=True, n_cycles=n_cycles,\n        picks=idx)\n\n    power_faces.save(op.join(data_path, '%s-faces-tfr.h5' % subject),\n                     overwrite=True)\n    itc_faces.save(op.join(data_path, '%s-itc_faces-tfr.h5' % subject),\n                   overwrite=True)\n\n    power_scrambled.save(op.join(data_path, '%s-scrambled-tfr.h5' % subject),\n                         overwrite=True)\n    itc_scrambled.save(op.join(data_path, '%s-itc_scrambled-tfr.h5' % subject),\n                       overwrite=True)\n\n\nparallel, run_func, _ = parallel_func(run_time_frequency, n_jobs=N_JOBS)\nparallel(run_func(subject_id) for subject_id in range(1, 20))"
      ]
    }
  ],
  "metadata": {
    "kernelspec": {
      "display_name": "Python 3",
      "language": "python",
      "name": "python3"
    },
    "language_info": {
      "codemirror_mode": {
        "name": "ipython",
        "version": 3
      },
      "file_extension": ".py",
      "mimetype": "text/x-python",
      "name": "python",
      "nbconvert_exporter": "python",
      "pygments_lexer": "ipython3",
      "version": "3.6.2"
    }
  },
  "nbformat": 4,
  "nbformat_minor": 0
}