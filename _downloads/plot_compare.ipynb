{
  "nbformat_minor": 0, 
  "nbformat": 4, 
  "cells": [
    {
      "execution_count": null, 
      "cell_type": "code", 
      "source": [
        "%matplotlib inline"
      ], 
      "outputs": [], 
      "metadata": {
        "collapsed": false
      }
    }, 
    {
      "source": [
        "\n# Comparison between subjects\n\n\nAll the subjects compared.\n\n"
      ], 
      "cell_type": "markdown", 
      "metadata": {}
    }, 
    {
      "execution_count": null, 
      "cell_type": "code", 
      "source": [
        "import os.path as op\nimport numpy as np\n\nimport mne\nfrom library.config import meg_dir, ylim\n\nevokeds = list()\nfor subject_id in range(1, 20):\n    subject = \"sub%03d\" % subject_id\n    fname_in = op.join(meg_dir, subject, '%s-ave.fif' % subject)\n    evokeds.append(mne.read_evokeds(fname_in))\ntimes = np.arange(0.1, 0.26, 0.025)"
      ], 
      "outputs": [], 
      "metadata": {
        "collapsed": false
      }
    }, 
    {
      "source": [
        "Evoked responses on EEG. :ref:`sphx_glr_auto_scripts_06-make_evoked.py`\n\n"
      ], 
      "cell_type": "markdown", 
      "metadata": {}
    }, 
    {
      "execution_count": null, 
      "cell_type": "code", 
      "source": [
        "picks = mne.pick_types(evokeds[0][0].info, meg=False, eeg=True)\nfor idx, evoked in enumerate(evokeds):\n    for cond in range(3):\n        comm = evoked[cond].comment\n        evoked[cond].plot_joint(picks=picks, ts_args={'ylim': ylim},\n                                title='Subject %s %s' % (idx + 1, comm))"
      ], 
      "outputs": [], 
      "metadata": {
        "collapsed": false
      }
    }, 
    {
      "source": [
        "Topomaps\n\n"
      ], 
      "cell_type": "markdown", 
      "metadata": {}
    }, 
    {
      "execution_count": null, 
      "cell_type": "code", 
      "source": [
        "for idx, evoked in enumerate(evokeds):\n    for cond in range(3):\n        comm = evoked[cond].comment\n        evoked[cond].plot_topomap(times=times,\n                                  title='Subject %s %s' % (idx + 1, comm))"
      ], 
      "outputs": [], 
      "metadata": {
        "collapsed": false
      }
    }
  ], 
  "metadata": {
    "kernelspec": {
      "display_name": "Python 2", 
      "name": "python2", 
      "language": "python"
    }, 
    "language_info": {
      "mimetype": "text/x-python", 
      "nbconvert_exporter": "python", 
      "name": "python", 
      "file_extension": ".py", 
      "version": "2.7.12", 
      "pygments_lexer": "ipython2", 
      "codemirror_mode": {
        "version": 2, 
        "name": "ipython"
      }
    }
  }
}