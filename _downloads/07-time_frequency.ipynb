{
  "nbformat_minor": 0, 
  "nbformat": 4, 
  "cells": [
    {
      "execution_count": null, 
      "cell_type": "code", 
      "source": [
        "%matplotlib inline"
      ], 
      "outputs": [], 
      "metadata": {
        "collapsed": false
      }
    }, 
    {
      "source": [
        "\nBlabla\n======================\n\nblabla\n\n"
      ], 
      "cell_type": "markdown", 
      "metadata": {}
    }, 
    {
      "execution_count": null, 
      "cell_type": "code", 
      "source": [
        "import os.path as op\nimport numpy as np\n\nimport mne\nfrom mne.parallel import parallel_func\n\nfrom library.config import study_path, meg_dir, N_JOBS\n\nfreqs = np.arange(6, 40)\nn_cycles = freqs / 2.\n\ndef run_time_frequency(subject_id):\n    print(\"processing subject: %s\" % subject_id)\n    subject = \"sub%03d\" % subject_id\n    data_path = op.join(meg_dir, subject)\n    epochs = mne.read_epochs(op.join(data_path, '%s-epo.fif' % subject))\n    #evokeds = mne.read_evokeds(op.join(data_path, '%s-ave.fif' % subject))\n    #faces = evokeds[-1]\n    faces = epochs['face']\n    idx = [faces.ch_names.index('EEG070')]\n    power_faces, itc_faces = mne.time_frequency.tfr_morlet(\n        faces, freqs=freqs, return_itc=True, n_cycles=n_cycles, picks=idx)\n    power_scrambled, itc_scrambled = mne.time_frequency.tfr_morlet(\n        epochs['scrambled'], freqs=freqs, return_itc=True, n_cycles=n_cycles,\n        picks=idx)\n    #power = mne.time_frequency.tfr_morlet(faces, freqs=freqs, return_itc=False,\n    #                                      n_cycles=n_cycles)\n    power_faces.save(op.join(data_path, '%s-faces-tfr.h5' % subject),\n                     overwrite=True)\n    itc_faces.save(op.join(data_path, '%s-itc_faces-tfr.h5' % subject),\n                   overwrite=True)\n    power_scrambled.save(op.join(data_path, '%s-scrambled-tfr.h5' % subject),\n                         overwrite=True)\n    itc_scrambled.save(op.join(data_path, '%s-itc_scrambled-tfr.h5' % subject),\n                         overwrite=True)\n\n    #power, itc = mne.time_frequency.tfr_morlet(epochs['famous'], freqs=freqs,\n    #                                           return_itc=True,\n    #                                           n_cycles=n_cycles)\n    #power.plot_topo()\n    #mne.time_frequency.tfr_multitaper()\n\nparallel, run_func, _ = parallel_func(run_time_frequency, n_jobs=N_JOBS)\nparallel(run_func(subject_id) for subject_id in range(1, 20))"
      ], 
      "outputs": [], 
      "metadata": {
        "collapsed": false
      }
    }
  ], 
  "metadata": {
    "kernelspec": {
      "display_name": "Python 2", 
      "name": "python2", 
      "language": "python"
    }, 
    "language_info": {
      "mimetype": "text/x-python", 
      "nbconvert_exporter": "python", 
      "name": "python", 
      "file_extension": ".py", 
      "version": "2.7.12", 
      "pygments_lexer": "ipython2", 
      "codemirror_mode": {
        "version": 2, 
        "name": "ipython"
      }
    }
  }
}