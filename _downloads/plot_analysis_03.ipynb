{
  "cells": [
    {
      "cell_type": "code",
      "execution_count": null,
      "metadata": {
        "collapsed": false
      },
      "outputs": [],
      "source": [
        "%matplotlib inline"
      ]
    },
    {
      "cell_type": "markdown",
      "metadata": {},
      "source": [
        "\n# Analysis for subject 03\n\n\nRun the analysis.\n\n"
      ]
    },
    {
      "cell_type": "code",
      "execution_count": null,
      "metadata": {
        "collapsed": false
      },
      "outputs": [],
      "source": [
        "import os.path as op\nimport sys\n\nimport numpy as np\n\nimport mne\n\nsys.path.append(op.join('..', '..', 'processing'))\nfrom library.config import study_path, meg_dir, ylim, l_freq  # noqa: E402"
      ]
    },
    {
      "cell_type": "markdown",
      "metadata": {},
      "source": [
        "Configuration\n\n"
      ]
    },
    {
      "cell_type": "code",
      "execution_count": null,
      "metadata": {
        "collapsed": false
      },
      "outputs": [],
      "source": [
        "subjects_dir = op.join(study_path, 'subjects')\n\nsubject = \"sub003\"\nsubject_dir = op.join(meg_dir, subject)"
      ]
    },
    {
      "cell_type": "markdown",
      "metadata": {},
      "source": [
        "Continuous data\n\n"
      ]
    },
    {
      "cell_type": "code",
      "execution_count": null,
      "metadata": {
        "collapsed": false
      },
      "outputs": [],
      "source": [
        "raw_fname = op.join(study_path, 'ds117', subject, 'MEG', 'run_01_raw.fif')\nraw_filt_fname = op.join(subject_dir,\n                         'run_01_filt_sss_highpass-%sHz_raw.fif' % l_freq)\nraw = mne.io.read_raw_fif(raw_fname)\nraw_filt = mne.io.read_raw_fif(raw_filt_fname)"
      ]
    },
    {
      "cell_type": "markdown",
      "metadata": {},
      "source": [
        "Filtering `sphx_glr_auto_scripts_04-python_filtering.py`.\n\n"
      ]
    },
    {
      "cell_type": "code",
      "execution_count": null,
      "metadata": {
        "collapsed": false
      },
      "outputs": [],
      "source": [
        "raw.plot_psd(n_fft=8192, average=False)\nraw_filt.plot_psd(n_fft=8192, average=False)"
      ]
    },
    {
      "cell_type": "markdown",
      "metadata": {},
      "source": [
        "Events `sphx_glr_auto_scripts_02-extract_events.py`.\nEpochs `sphx_glr_auto_scripts_06-make_epochs.py`.\n\n"
      ]
    },
    {
      "cell_type": "code",
      "execution_count": null,
      "metadata": {
        "collapsed": false
      },
      "outputs": [],
      "source": [
        "eve_fname = op.join(subject_dir, 'run_01_filt_sss-eve.fif')\nepo_fname = op.join(subject_dir,\n                    '%s_highpass-%sHz-epo.fif' % (subject, l_freq))\n\nevents = mne.read_events(eve_fname)\nfig = mne.viz.plot_events(events, show=False)\nfig.suptitle('Events from run 01')\n\nepochs = mne.read_epochs(epo_fname)\nepochs.plot_drop_log()"
      ]
    },
    {
      "cell_type": "markdown",
      "metadata": {},
      "source": [
        "Evoked responses `sphx_glr_auto_scripts_07-make_evoked.py`\n\n"
      ]
    },
    {
      "cell_type": "code",
      "execution_count": null,
      "metadata": {
        "collapsed": false
      },
      "outputs": [],
      "source": [
        "ave_fname = op.join(subject_dir,\n                    '%s_highpass-%sHz-ave.fif' % (subject, l_freq))\nevoked = mne.read_evokeds(ave_fname)"
      ]
    },
    {
      "cell_type": "markdown",
      "metadata": {},
      "source": [
        "Faces\n\n"
      ]
    },
    {
      "cell_type": "code",
      "execution_count": null,
      "metadata": {
        "collapsed": false
      },
      "outputs": [],
      "source": [
        "famous_evo, scrambled_evo, unfamiliar_evo, contrast_evo, faces_evo = evoked[:5]\nfaces_evo.plot(spatial_colors=True, gfp=True, ylim=ylim,\n               window_title='Faces %s' % subject)"
      ]
    },
    {
      "cell_type": "markdown",
      "metadata": {},
      "source": [
        "Famous\n\n"
      ]
    },
    {
      "cell_type": "code",
      "execution_count": null,
      "metadata": {
        "collapsed": false
      },
      "outputs": [],
      "source": [
        "famous_evo.plot(spatial_colors=True, gfp=True, ylim=ylim,\n                window_title='Famous %s' % subject)"
      ]
    },
    {
      "cell_type": "markdown",
      "metadata": {},
      "source": [
        "Scrambled\n\n"
      ]
    },
    {
      "cell_type": "code",
      "execution_count": null,
      "metadata": {
        "collapsed": false
      },
      "outputs": [],
      "source": [
        "scrambled_evo.plot(spatial_colors=True, gfp=True, ylim=ylim,\n                   window_title='Scrambled %s' % subject)"
      ]
    },
    {
      "cell_type": "markdown",
      "metadata": {},
      "source": [
        "Unfamiliar\n\n"
      ]
    },
    {
      "cell_type": "code",
      "execution_count": null,
      "metadata": {
        "collapsed": false
      },
      "outputs": [],
      "source": [
        "unfamiliar_evo.plot(spatial_colors=True, gfp=True, ylim=ylim,\n                    window_title='Unfamiliar %s' % subject)"
      ]
    },
    {
      "cell_type": "markdown",
      "metadata": {},
      "source": [
        "Faces - scrambled\n\n"
      ]
    },
    {
      "cell_type": "code",
      "execution_count": null,
      "metadata": {
        "collapsed": false
      },
      "outputs": [],
      "source": [
        "contrast_evo.plot(spatial_colors=True, gfp=True, ylim=ylim,\n                  window_title='Faces - scrambled %s' % subject)"
      ]
    },
    {
      "cell_type": "markdown",
      "metadata": {},
      "source": [
        "Topomaps\n\n"
      ]
    },
    {
      "cell_type": "code",
      "execution_count": null,
      "metadata": {
        "collapsed": false
      },
      "outputs": [],
      "source": [
        "times = np.arange(0.05, 0.3, 0.025)\nfamous_evo.plot_topomap(times=times, title='Famous %s' % subject,\n                        show=False)\nscrambled_evo.plot_topomap(times=times, title='Scrambled %s' % subject,\n                           show=False)\nunfamiliar_evo.plot_topomap(times=times, title='Unfamiliar %s' % subject,\n                            show=False)\ncontrast_evo.plot_topomap(times=times, title='Faces - scrambled %s' % subject,\n                          show=True)"
      ]
    },
    {
      "cell_type": "markdown",
      "metadata": {},
      "source": [
        "ICA\n\n"
      ]
    },
    {
      "cell_type": "code",
      "execution_count": null,
      "metadata": {
        "collapsed": false
      },
      "outputs": [],
      "source": [
        "ica_fname = op.join(subject_dir, 'run_01-ica.fif')\nica = mne.preprocessing.read_ica(ica_fname)\nica.plot_sources(raw_filt, show=True)"
      ]
    },
    {
      "cell_type": "markdown",
      "metadata": {},
      "source": [
        "TFR `sphx_glr_auto_scripts_09-time_frequency.py`.\n\n"
      ]
    },
    {
      "cell_type": "code",
      "execution_count": null,
      "metadata": {
        "collapsed": false
      },
      "outputs": [],
      "source": [
        "fpower = mne.time_frequency.read_tfrs(\n    op.join(subject_dir, '%s-faces-tfr.h5' % subject))[0]\nfitc = mne.time_frequency.read_tfrs(\n    op.join(subject_dir, '%s-itc_faces-tfr.h5' % subject))[0]\nspower = mne.time_frequency.read_tfrs(\n    op.join(subject_dir, '%s-scrambled-tfr.h5' % subject))[0]\nsitc = mne.time_frequency.read_tfrs(\n    op.join(subject_dir, '%s-itc_scrambled-tfr.h5' % subject))[0]\nchannel = 'EEG065'\nidx = [fpower.ch_names.index(channel)]\nfpower.plot(idx, title='Faces power %s' % channel, baseline=(-0.1, 0.0),\n            mode='logratio', show=False)\nspower.plot(idx, title='Scrambled power %s' % channel, baseline=(-0.1, 0.0),\n            mode='logratio', show=False)\nfitc.plot(idx, title='Faces ITC %s' % channel, baseline=(-0.1, 0.0),\n          mode='logratio', show=False)\nsitc.plot(idx, title='Scrambled ITC %s' % channel, baseline=(-0.1, 0.0),\n          mode='logratio')"
      ]
    },
    {
      "cell_type": "markdown",
      "metadata": {},
      "source": [
        "Covariance `sphx_glr_auto_scripts_07-make_evoked.py`.\n\n"
      ]
    },
    {
      "cell_type": "code",
      "execution_count": null,
      "metadata": {
        "collapsed": false
      },
      "outputs": [],
      "source": [
        "cov_fname = op.join(subject_dir,\n                    '%s_highpass-%sHz-cov.fif' % (subject, l_freq))\ncov = mne.read_cov(cov_fname)\nmne.viz.plot_cov(cov, faces_evo.info)\nfaces_evo.plot_white(cov)"
      ]
    },
    {
      "cell_type": "markdown",
      "metadata": {},
      "source": [
        "Trans\n\n"
      ]
    },
    {
      "cell_type": "code",
      "execution_count": null,
      "metadata": {
        "collapsed": false
      },
      "outputs": [],
      "source": [
        "fname_trans = op.join(study_path, 'ds117', subject, 'MEG',\n                      '%s-trans.fif' % subject)\nbem = mne.read_bem_surfaces(op.join(subjects_dir, subject, 'bem',\n                                    '%s-5120-bem.fif' % subject))\nsrc = mne.read_source_spaces(\n    op.join(subjects_dir, subject, 'bem', '%s-oct6-src.fif' % subject))\nmne.viz.plot_alignment(famous_evo.info, fname_trans, subject=subject,\n                       subjects_dir=subjects_dir, bem=bem, src=src,\n                       surfaces='inner_skull')"
      ]
    },
    {
      "cell_type": "markdown",
      "metadata": {},
      "source": [
        "Faces `sphx_glr_auto_scripts_13-make_inverse.py`.\n\n"
      ]
    },
    {
      "cell_type": "code",
      "execution_count": null,
      "metadata": {
        "collapsed": false
      },
      "outputs": [],
      "source": [
        "def plot_stc(cond, figure=None):\n    fname = op.join(subject_dir, 'mne_dSPM_inverse-%s' % cond)\n    stc = mne.read_source_estimate(fname, subject).magnitude()\n    brain = stc.plot(subject=subject, subjects_dir=subjects_dir, views=['ven'],\n                     hemi='both', initial_time=0.17, time_unit='s',\n                     figure=figure)\n    return brain\n\n\nbrain_faces = plot_stc('faces', figure=1)"
      ]
    },
    {
      "cell_type": "markdown",
      "metadata": {},
      "source": [
        "Faces - scrambled\n\n"
      ]
    },
    {
      "cell_type": "code",
      "execution_count": null,
      "metadata": {
        "collapsed": false
      },
      "outputs": [],
      "source": [
        "brain_contrast = plot_stc('contrast', figure=2)"
      ]
    },
    {
      "cell_type": "markdown",
      "metadata": {},
      "source": [
        "LCMV Faces - scrambled\n\n"
      ]
    },
    {
      "cell_type": "code",
      "execution_count": null,
      "metadata": {
        "collapsed": false
      },
      "outputs": [],
      "source": [
        "fname = op.join(subject_dir, 'mne_LCMV_inverse-contrast')\nstc = mne.read_source_estimate(fname, subject)\nstc.plot(subject=subject, subjects_dir=subjects_dir, views=['ven'],\n         hemi='both', initial_time=0.17, time_unit='s', figure=3)"
      ]
    },
    {
      "cell_type": "markdown",
      "metadata": {},
      "source": [
        "BEM\n\n"
      ]
    },
    {
      "cell_type": "code",
      "execution_count": null,
      "metadata": {
        "collapsed": false
      },
      "outputs": [],
      "source": [
        "mne.viz.plot_bem(subject, subjects_dir)"
      ]
    }
  ],
  "metadata": {
    "kernelspec": {
      "display_name": "Python 3",
      "language": "python",
      "name": "python3"
    },
    "language_info": {
      "codemirror_mode": {
        "name": "ipython",
        "version": 3
      },
      "file_extension": ".py",
      "mimetype": "text/x-python",
      "name": "python",
      "nbconvert_exporter": "python",
      "pygments_lexer": "ipython3",
      "version": "3.6.2"
    }
  },
  "nbformat": 4,
  "nbformat_minor": 0
}