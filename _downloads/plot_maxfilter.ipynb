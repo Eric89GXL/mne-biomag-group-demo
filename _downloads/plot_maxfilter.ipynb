{
  "nbformat_minor": 0, 
  "nbformat": 4, 
  "cells": [
    {
      "execution_count": null, 
      "cell_type": "code", 
      "source": [
        "%matplotlib inline"
      ], 
      "outputs": [], 
      "metadata": {
        "collapsed": false
      }
    }, 
    {
      "source": [
        "\nMaxwell filtering\n=================\n\nDemonstrates maxwell filtering for one run (sub001, run01) using MNE-python.\n\n"
      ], 
      "cell_type": "markdown", 
      "metadata": {}
    }, 
    {
      "execution_count": null, 
      "cell_type": "code", 
      "source": [
        "import os.path as op\n\nimport mne\nfrom mne import Epochs\nfrom mne.preprocessing import maxwell_filter\n\nfrom library.config import study_path, cal, ctc\n\nevent_ids = [5, 6, 7]  # Famous faces\n\nsubject = \"sub001\"\n\nraw_fname_in = op.join(study_path, 'ds117', subject, 'MEG', 'run_01_raw.fif')\nsss_fname_in = op.join(study_path, 'ds117', subject, 'MEG', 'run_01_sss.fif')"
      ], 
      "outputs": [], 
      "metadata": {
        "collapsed": false
      }
    }, 
    {
      "source": [
        "First the filtered raw data.\n\n"
      ], 
      "cell_type": "markdown", 
      "metadata": {}
    }, 
    {
      "execution_count": null, 
      "cell_type": "code", 
      "source": [
        "raw = mne.io.read_raw_fif(raw_fname_in, preload=True)\n\nraw.info['bads'] = ['MEG1031', 'MEG1111']  # set bads\npicks = mne.pick_types(raw.info, meg=True, exclude='bads')\nraw.filter(1, 40, fir_window='hann', l_trans_bandwidth=0.5, phase='zero',\n           h_trans_bandwidth='auto', filter_length='10s')\n\nevents = mne.find_events(raw, stim_channel='STI101', consecutive='increasing',\n                         mask=4352, mask_type='not_and', min_duration=0.003,\n                         verbose=True)\nevoked_before = Epochs(raw, events, event_id=event_ids, picks=picks).average()"
      ], 
      "outputs": [], 
      "metadata": {
        "collapsed": false
      }
    }, 
    {
      "source": [
        "Then Maxfiltered and tSSS'd data.\n\n"
      ], 
      "cell_type": "markdown", 
      "metadata": {}
    }, 
    {
      "execution_count": null, 
      "cell_type": "code", 
      "source": [
        "raw = mne.io.read_raw_fif(raw_fname_in, preload=True)\nraw_sss = mne.io.read_raw_fif(sss_fname_in, preload=True)\nraw.info['bads'] = ['MEG1031', 'MEG1111']\nraw_sss.info['bads'] = ['MEG1031', 'MEG1111']\n\nraw = maxwell_filter(raw, calibration=cal, cross_talk=ctc, st_duration=5.)\n\nraw.filter(1, 40, fir_window='hann', l_trans_bandwidth=0.5, phase='zero',\n           h_trans_bandwidth='auto', filter_length='10s')\nraw_sss.filter(1, 40, fir_window='hann', l_trans_bandwidth=0.5, phase='zero',\n               h_trans_bandwidth='auto', filter_length='10s')\n\nevoked_after = Epochs(raw, events, event_id=event_ids, picks=picks).average()\nevoked_sss = Epochs(raw_sss, events, event_id=event_ids, picks=picks).average()"
      ], 
      "outputs": [], 
      "metadata": {
        "collapsed": false
      }
    }, 
    {
      "source": [
        "Plotting\n\n"
      ], 
      "cell_type": "markdown", 
      "metadata": {}
    }, 
    {
      "execution_count": null, 
      "cell_type": "code", 
      "source": [
        "evoked_before.plot(spatial_colors=True,\n                   titles={'grad': 'Gradiometers before SSS',\n                           'mag': 'Magnetometers before SSS'})\nevoked_after.plot(spatial_colors=True,\n                  titles={'grad': 'tSSS gradiometers',\n                          'mag': 'tSSS magnetometers'})\nevoked_sss.plot(spatial_colors=True,\n                titles={'grad': 'Maxfilter (tm) gradiometers',\n                        'mag': 'Maxfilter (tm) magnetometers'})"
      ], 
      "outputs": [], 
      "metadata": {
        "collapsed": false
      }
    }
  ], 
  "metadata": {
    "kernelspec": {
      "display_name": "Python 2", 
      "name": "python2", 
      "language": "python"
    }, 
    "language_info": {
      "mimetype": "text/x-python", 
      "nbconvert_exporter": "python", 
      "name": "python", 
      "file_extension": ".py", 
      "version": "2.7.12", 
      "pygments_lexer": "ipython2", 
      "codemirror_mode": {
        "version": 2, 
        "name": "ipython"
      }
    }
  }
}