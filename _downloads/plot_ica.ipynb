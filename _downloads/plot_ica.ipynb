{
  "nbformat_minor": 0, 
  "nbformat": 4, 
  "cells": [
    {
      "execution_count": null, 
      "cell_type": "code", 
      "source": [
        "%matplotlib inline"
      ], 
      "outputs": [], 
      "metadata": {
        "collapsed": false
      }
    }, 
    {
      "source": [
        "\n# Remove ECG using ICA\n\n\nRemove ICA using ECG.\n\n"
      ], 
      "cell_type": "markdown", 
      "metadata": {}
    }, 
    {
      "execution_count": null, 
      "cell_type": "code", 
      "source": [
        "import os\nimport os.path as op\nimport numpy as np\n\nimport mne\nfrom mne.io.constants import FIFF\nfrom mne.preprocessing import create_ecg_epochs, read_ica\n\nfrom library.config import meg_dir, map_subjects"
      ], 
      "outputs": [], 
      "metadata": {
        "collapsed": false
      }
    }, 
    {
      "source": [
        "We define the events and the onset and offset of the epochs\n\n"
      ], 
      "cell_type": "markdown", 
      "metadata": {}
    }, 
    {
      "execution_count": null, 
      "cell_type": "code", 
      "source": [
        "events_id = {\n    'face/famous/first': 5,\n    'face/famous/immediate': 6,\n    'face/famous/long': 7,\n    'face/unfamiliar/first': 13,\n    'face/unfamiliar/immediate': 14,\n    'face/unfamiliar/long': 15,\n    'scrambled/first': 17,\n    'scrambled/immediate': 18,\n    'scrambled/long': 19,\n}\n\ntmin, tmax = -0.2, 0.8\nreject = dict(grad=4000e-13, mag=4e-12, eog=180e-6)\nbaseline = None\n\nsubject_id, run = 5, 1\nsubject = \"sub%03d\" % subject_id\nprint(\"processing subject: %s\" % subject)\n\ndata_path = op.join(meg_dir, subject)"
      ], 
      "outputs": [], 
      "metadata": {
        "collapsed": false
      }
    }, 
    {
      "source": [
        "Now we get the bad channels\n\n"
      ], 
      "cell_type": "markdown", 
      "metadata": {}
    }, 
    {
      "execution_count": null, 
      "cell_type": "code", 
      "source": [
        "# Get all bad channels\nmapping = map_subjects[subject_id]  # map to correct subject\nall_bads = list()\n\nbads = list()\nbad_name = op.join('bads', mapping, 'run_%02d_raw_tr.fif_bad' % run)\nif os.path.exists(bad_name):\n    with open(bad_name) as f:\n        for line in f:\n            bads.append(line.strip())"
      ], 
      "outputs": [], 
      "metadata": {
        "collapsed": false
      }
    }, 
    {
      "source": [
        "We remove the EEG reference so that we can change the channel type\nfor ECG and EOG\n\n"
      ], 
      "cell_type": "markdown", 
      "metadata": {}
    }, 
    {
      "execution_count": null, 
      "cell_type": "code", 
      "source": [
        "run_fname = op.join(data_path, 'run_%02d_filt_sss_raw.fif' % run)\nraw = mne.io.Raw(run_fname, preload=True, add_eeg_ref=False)\nfor idx, proj in enumerate(raw.info['projs']):  # find idx for EEG-ref\n    if proj['kind'] == FIFF.FIFFV_MNE_PROJ_ITEM_EEG_AVREF:\n        proj_idx = idx\n        break\nraw.del_proj(proj_idx)  # remove EEG average ref"
      ], 
      "outputs": [], 
      "metadata": {
        "collapsed": false
      }
    }, 
    {
      "source": [
        "Then we change the channel type for ECG and EOG\n\n"
      ], 
      "cell_type": "markdown", 
      "metadata": {}
    }, 
    {
      "execution_count": null, 
      "cell_type": "code", 
      "source": [
        "raw.set_channel_types({'EEG061': 'eog', 'EEG062': 'eog', 'EEG063': 'ecg',\n                       'EEG064': 'misc'})  # EEG064 free floating el.\nraw.rename_channels({'EEG061': 'EOG061', 'EEG062': 'EOG062',\n                     'EEG063': 'ECG063'})"
      ], 
      "outputs": [], 
      "metadata": {
        "collapsed": false
      }
    }, 
    {
      "source": [
        "We remove the bad eye blink segments from the raw by marking\n``raw.annotations``. They will be removed before constructing epochs\n\n"
      ], 
      "cell_type": "markdown", 
      "metadata": {}
    }, 
    {
      "execution_count": null, 
      "cell_type": "code", 
      "source": [
        "eog_events = mne.preprocessing.find_eog_events(raw)\neog_events[:, 0] -= int(0.25 * raw.info['sfreq'])\nannotations = mne.Annotations(eog_events[:, 0] / raw.info['sfreq'],\n                              np.repeat(0.5, len(eog_events)),\n                              'BAD_blink', raw.info['meas_date'])\nraw.annotations = annotations  # Remove epochs with blinks"
      ], 
      "outputs": [], 
      "metadata": {
        "collapsed": false
      }
    }, 
    {
      "source": [
        "must take into account the 34 ms delay in the trigger channel\n\n"
      ], 
      "cell_type": "markdown", 
      "metadata": {}
    }, 
    {
      "execution_count": null, 
      "cell_type": "code", 
      "source": [
        "delay = int(0.0345 * raw.info['sfreq'])\nevents = mne.read_events(op.join(data_path,\n                                 'run_%02d_filt_sss-eve.fif' % run))\nevents[:, 0] = events[:, 0] + delay"
      ], 
      "outputs": [], 
      "metadata": {
        "collapsed": false
      }
    }, 
    {
      "source": [
        "Bad sensors are repaired\n\n"
      ], 
      "cell_type": "markdown", 
      "metadata": {}
    }, 
    {
      "execution_count": null, 
      "cell_type": "code", 
      "source": [
        "raw.info['bads'] = bads\nraw.interpolate_bads()\nraw.set_eeg_reference()"
      ], 
      "outputs": [], 
      "metadata": {
        "collapsed": false
      }
    }, 
    {
      "source": [
        "... and finally ``Epochs`` are constructed\n\n"
      ], 
      "cell_type": "markdown", 
      "metadata": {}
    }, 
    {
      "execution_count": null, 
      "cell_type": "code", 
      "source": [
        "picks = mne.pick_types(raw.info, meg=True, eeg=True, stim=True,\n                       eog=True)\n\n# Read epochs\nepochs = mne.Epochs(raw, events, events_id, tmin, tmax, proj=True,\n                    picks=picks, baseline=baseline, preload=True,\n                    decim=2, reject=reject)"
      ], 
      "outputs": [], 
      "metadata": {
        "collapsed": false
      }
    }, 
    {
      "source": [
        "Now let's get to some serious ICA preprocessing\n\n"
      ], 
      "cell_type": "markdown", 
      "metadata": {}
    }, 
    {
      "execution_count": null, 
      "cell_type": "code", 
      "source": [
        "ica_name = op.join(meg_dir, subject, 'run_%02d-ica.fif' % run)\nica = read_ica(ica_name)\nn_max_ecg = 3  # use max 3 components\necg_epochs = create_ecg_epochs(raw, tmin=-.5, tmax=.5)\necg_inds, scores_ecg = ica.find_bads_ecg(ecg_epochs, method='ctps',\n                                         threshold=0.8)\nica.plot_sources(raw, exclude=ecg_inds)\nica.plot_scores(scores_ecg, exclude=ecg_inds)\nica.plot_components(ecg_inds)\nica.exclude += ecg_inds[:n_max_ecg]\n\nica.apply(epochs)"
      ], 
      "outputs": [], 
      "metadata": {
        "collapsed": false
      }
    }
  ], 
  "metadata": {
    "kernelspec": {
      "display_name": "Python 2", 
      "name": "python2", 
      "language": "python"
    }, 
    "language_info": {
      "mimetype": "text/x-python", 
      "nbconvert_exporter": "python", 
      "name": "python", 
      "file_extension": ".py", 
      "version": "2.7.12", 
      "pygments_lexer": "ipython2", 
      "codemirror_mode": {
        "version": 2, 
        "name": "ipython"
      }
    }
  }
}