{
  "cells": [
    {
      "cell_type": "code",
      "execution_count": null,
      "metadata": {
        "collapsed": false
      },
      "outputs": [],
      "source": [
        "%matplotlib inline"
      ]
    },
    {
      "cell_type": "markdown",
      "metadata": {},
      "source": [
        "\n# Remove ECG using ICA\n\n\nRemove ECG for sub005 using ICA.\n\n"
      ]
    },
    {
      "cell_type": "code",
      "execution_count": null,
      "metadata": {
        "collapsed": false
      },
      "outputs": [],
      "source": [
        "import os\nimport os.path as op\nimport sys\n\nimport mne\nfrom mne.preprocessing import create_ecg_epochs, read_ica\n\nsys.path.append(op.join('..', '..', 'processing'))\nfrom library.config import meg_dir, map_subjects, l_freq  # noqa: E402\n\nsubject_id, run = 5, 1\nsubject = \"sub%03d\" % subject_id\nprint(\"processing subject: %s\" % subject)\n\ndata_path = op.join(meg_dir, subject)"
      ]
    },
    {
      "cell_type": "markdown",
      "metadata": {},
      "source": [
        "Now we get the bad channels.\n\n"
      ]
    },
    {
      "cell_type": "code",
      "execution_count": null,
      "metadata": {
        "collapsed": false
      },
      "outputs": [],
      "source": [
        "mapping = map_subjects[subject_id]  # map to correct subject\nall_bads = list()\n\nbads = list()\nbad_name = op.join('bads', mapping, 'run_%02d_raw_tr.fif_bad' % run)\nif os.path.exists(bad_name):\n    with open(bad_name) as f:\n        for line in f:\n            bads.append(line.strip())"
      ]
    },
    {
      "cell_type": "markdown",
      "metadata": {},
      "source": [
        "We read the data.\n\n"
      ]
    },
    {
      "cell_type": "code",
      "execution_count": null,
      "metadata": {
        "collapsed": false
      },
      "outputs": [],
      "source": [
        "run_fname = op.join(data_path, 'run_%02d_filt_sss_highpass-%sHz_raw.fif'\n                    % (run, l_freq))\nraw = mne.io.read_raw_fif(run_fname, preload=True)"
      ]
    },
    {
      "cell_type": "markdown",
      "metadata": {},
      "source": [
        "Bad sensors are repaired.\n\n"
      ]
    },
    {
      "cell_type": "code",
      "execution_count": null,
      "metadata": {
        "collapsed": false
      },
      "outputs": [],
      "source": [
        "raw.info['bads'] = bads\nraw.interpolate_bads()\nraw.set_eeg_reference(projection=True)"
      ]
    },
    {
      "cell_type": "markdown",
      "metadata": {},
      "source": [
        "Now let's get to some serious ICA preprocessing\n\n"
      ]
    },
    {
      "cell_type": "code",
      "execution_count": null,
      "metadata": {
        "collapsed": false
      },
      "outputs": [],
      "source": [
        "ica_name = op.join(meg_dir, subject, 'run_%02d-ica.fif' % run)\nica = read_ica(ica_name)\nn_max_ecg = 3  # use max 3 components\necg_epochs = create_ecg_epochs(raw, tmin=-.5, tmax=.5)\necg_epochs.decimate(11, verbose='error')\necg_inds, scores_ecg = ica.find_bads_ecg(ecg_epochs, method='ctps',\n                                         threshold=0.8)\nica.plot_sources(raw, exclude=ecg_inds)\nica.plot_scores(scores_ecg, exclude=ecg_inds)\nica.plot_properties(raw, ecg_inds)\nica.exclude += ecg_inds[:n_max_ecg]"
      ]
    }
  ],
  "metadata": {
    "kernelspec": {
      "display_name": "Python 3",
      "language": "python",
      "name": "python3"
    },
    "language_info": {
      "codemirror_mode": {
        "name": "ipython",
        "version": 3
      },
      "file_extension": ".py",
      "mimetype": "text/x-python",
      "name": "python",
      "nbconvert_exporter": "python",
      "pygments_lexer": "ipython3",
      "version": "3.6.2"
    }
  },
  "nbformat": 4,
  "nbformat_minor": 0
}