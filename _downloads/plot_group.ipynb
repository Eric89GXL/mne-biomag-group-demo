{
  "nbformat_minor": 0, 
  "nbformat": 4, 
  "cells": [
    {
      "execution_count": null, 
      "cell_type": "code", 
      "source": [
        "%matplotlib inline"
      ], 
      "outputs": [], 
      "metadata": {
        "collapsed": false
      }
    }, 
    {
      "source": [
        "\n# Group analysis\n\n\nRun the group analysis.\n\n"
      ], 
      "cell_type": "markdown", 
      "metadata": {}
    }, 
    {
      "execution_count": null, 
      "cell_type": "code", 
      "source": [
        "import os.path as op\n\nimport mne\n\nfrom library.config import meg_dir, subjects_dir\n\nevokeds = mne.read_evokeds(op.join(meg_dir, 'grand_average-ave.fif'))[:3]"
      ], 
      "outputs": [], 
      "metadata": {
        "collapsed": false
      }
    }, 
    {
      "source": [
        "Sensor-space. See :ref:`sphx_glr_auto_scripts_09-group_average_sensors.py`\n\n"
      ], 
      "cell_type": "markdown", 
      "metadata": {}
    }, 
    {
      "execution_count": null, 
      "cell_type": "code", 
      "source": [
        "evokeds[0].plot_joint(title='Famous')\nevokeds[1].plot_joint(title='Scrambled')\nevokeds[2].plot_joint(title='Unfamiliar')\n\nidx = evokeds[0].ch_names.index('EEG070')\nassert evokeds[1].ch_names[idx] == 'EEG070'\nassert evokeds[2].ch_names[idx] == 'EEG070'\nmapping = {'Famous': evokeds[0], 'Scrambled': evokeds[1],\n           'Unfamiliar': evokeds[2]}\nmne.viz.plot_compare_evokeds(mapping, [idx], title='EEG070 (No baseline)')\n\nfor evoked in evokeds:\n    evoked.apply_baseline()\nmne.viz.plot_compare_evokeds(mapping, [idx],\n                             title='EEG070 (Baseline from -200ms to 0ms)',)"
      ], 
      "outputs": [], 
      "metadata": {
        "collapsed": false
      }
    }, 
    {
      "source": [
        "Source-space. See :ref:`sphx_glr_auto_scripts_14-group_average_source.py`\n\n"
      ], 
      "cell_type": "markdown", 
      "metadata": {}
    }, 
    {
      "execution_count": null, 
      "cell_type": "code", 
      "source": [
        "fname = op.join(meg_dir, 'contrast-average')\nstc = mne.read_source_estimate(fname, subject='fsaverage')\n\nbrain = stc.plot(views=['ven'], hemi='both', subject='fsaverage',\n                 subjects_dir=subjects_dir, initial_time=0.17, time_unit='s',\n                 clim={'lims': [99.75, 99.88, 99.98]})"
      ], 
      "outputs": [], 
      "metadata": {
        "collapsed": false
      }
    }
  ], 
  "metadata": {
    "kernelspec": {
      "display_name": "Python 2", 
      "name": "python2", 
      "language": "python"
    }, 
    "language_info": {
      "mimetype": "text/x-python", 
      "nbconvert_exporter": "python", 
      "name": "python", 
      "file_extension": ".py", 
      "version": "2.7.12", 
      "pygments_lexer": "ipython2", 
      "codemirror_mode": {
        "version": 2, 
        "name": "ipython"
      }
    }
  }
}