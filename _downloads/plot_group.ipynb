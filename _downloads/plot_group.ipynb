{
  "nbformat_minor": 0, 
  "nbformat": 4, 
  "cells": [
    {
      "execution_count": null, 
      "cell_type": "code", 
      "source": [
        "%matplotlib inline"
      ], 
      "outputs": [], 
      "metadata": {
        "collapsed": false
      }
    }, 
    {
      "source": [
        "\n# Group analysis\n\n\nRun the group analysis.\n\n"
      ], 
      "cell_type": "markdown", 
      "metadata": {}
    }, 
    {
      "execution_count": null, 
      "cell_type": "code", 
      "source": [
        "import os.path as op\n\nimport mne\n\nfrom library.config import study_path\n\nsubjects_dir = op.join(study_path, 'subjects')\nmeg_dir = op.join(study_path, 'MEG')\n\nfamous_fname = op.join(study_path, 'MEG', 'eeg_famous-ave.fif')\nfamous = mne.read_evokeds(famous_fname)[0]\n\nunfamiliar_fname = op.join(study_path, 'MEG', 'eeg_unfamiliar-ave.fif')\nunfamiliar = mne.read_evokeds(unfamiliar_fname)[0]\n\nscrambled = mne.read_evokeds(op.join(study_path, 'MEG',\n                                     'eeg_scrambled-ave.fif'))[0]\nscrambled.plot_joint()\n\nidx = famous.ch_names.index('EEG070')\nmne.viz.plot_compare_evokeds({'Famous': famous, 'Unfamiliar': unfamiliar,\n                              'Scrambled': scrambled}, [idx])\n\nfname = op.join(study_path, 'MEG', 'contrast-average')\nstc = mne.read_source_estimate(fname, subject='fsaverage')\nbrain = stc.plot(views=['cau'], hemi='both', subject='fsaverage',\n                 subjects_dir=subjects_dir)\nbrain.set_data_time_index(407)"
      ], 
      "outputs": [], 
      "metadata": {
        "collapsed": false
      }
    }
  ], 
  "metadata": {
    "kernelspec": {
      "display_name": "Python 2", 
      "name": "python2", 
      "language": "python"
    }, 
    "language_info": {
      "mimetype": "text/x-python", 
      "nbconvert_exporter": "python", 
      "name": "python", 
      "file_extension": ".py", 
      "version": "2.7.12", 
      "pygments_lexer": "ipython2", 
      "codemirror_mode": {
        "version": 2, 
        "name": "ipython"
      }
    }
  }
}