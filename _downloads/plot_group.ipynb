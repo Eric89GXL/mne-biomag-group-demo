{
  "cells": [
    {
      "cell_type": "code",
      "execution_count": null,
      "metadata": {
        "collapsed": false
      },
      "outputs": [],
      "source": [
        "%matplotlib inline"
      ]
    },
    {
      "cell_type": "markdown",
      "metadata": {},
      "source": [
        "\n# Group grand averages\n\n\nGrand-average group contrasts for sensor space, dSPM, and LCMV.\n\n"
      ]
    },
    {
      "cell_type": "code",
      "execution_count": null,
      "metadata": {
        "collapsed": false
      },
      "outputs": [],
      "source": [
        "# sphinx_gallery_thumbnail_number = 1\n\nimport os.path as op\nimport sys\n\nimport matplotlib.pyplot as plt\n\nimport mne\n\nsys.path.append(op.join('..', '..', 'processing'))\nfrom library.config import (meg_dir, subjects_dir, set_matplotlib_defaults,\n                            l_freq)  # noqa: E402\n\nevokeds = mne.read_evokeds(op.join(meg_dir,\n                           'grand_average_highpass-%sHz-ave.fif' % l_freq))[:3]"
      ]
    },
    {
      "cell_type": "markdown",
      "metadata": {},
      "source": [
        "Sensor-space. See `sphx_glr_auto_scripts_11-group_average_sensors.py`\nWe use the same sensor EEG065 as in Wakeman et al.\n\n"
      ]
    },
    {
      "cell_type": "code",
      "execution_count": null,
      "metadata": {
        "collapsed": false
      },
      "outputs": [],
      "source": [
        "idx = evokeds[0].ch_names.index('EEG065')\nassert evokeds[1].ch_names[idx] == 'EEG065'\nassert evokeds[2].ch_names[idx] == 'EEG065'\nmapping = {'Famous': evokeds[0], 'Scrambled': evokeds[1],\n           'Unfamiliar': evokeds[2]}"
      ]
    },
    {
      "cell_type": "markdown",
      "metadata": {},
      "source": [
        "Let us apply baseline correction now. Here we are dealing with a single\nsensor\n\n"
      ]
    },
    {
      "cell_type": "code",
      "execution_count": null,
      "metadata": {
        "collapsed": false
      },
      "outputs": [],
      "source": [
        "for evoked in evokeds:\n    evoked.apply_baseline(baseline=(-100, 0))"
      ]
    },
    {
      "cell_type": "markdown",
      "metadata": {},
      "source": [
        "We could have used the one-line MNE function for the comparison.\n\n"
      ]
    },
    {
      "cell_type": "code",
      "execution_count": null,
      "metadata": {
        "collapsed": false
      },
      "outputs": [],
      "source": [
        "# mne.viz.plot_compare_evokeds(mapping, [idx],\n#                              title='EEG065 (Baseline from -200ms to 0ms)',)"
      ]
    },
    {
      "cell_type": "markdown",
      "metadata": {},
      "source": [
        "But here we prefer a slightly more involved plotting script to make a\npublication ready graph.\n\n"
      ]
    },
    {
      "cell_type": "code",
      "execution_count": null,
      "metadata": {
        "collapsed": false
      },
      "outputs": [],
      "source": [
        "set_matplotlib_defaults(plt)\n\nfig, ax = plt.subplots(1, figsize=(7, 5))\nscale = 1e6\nax.plot(evoked.times * 1000, mapping['Scrambled'].data[idx] * scale,\n        'r', linewidth=2, label='Scrambled')\nax.plot(evoked.times * 1000, mapping['Unfamiliar'].data[idx] * scale,\n        'g', linewidth=2, label='Unfamiliar')\nax.plot(evoked.times * 1000, mapping['Famous'].data[idx] * scale, 'b',\n        linewidth=2, label='Famous')\nax.grid(True)\nax.set(xlim=[-100, 800], xlabel='Time (in ms after stimulus onset)',\n       ylabel=u'Potential difference (\u03bcV)')\nax.legend()\nfig.tight_layout()\nfig.savefig(op.join('..', 'figures',\n                    'grand_average_highpass-%sHz.pdf' % l_freq))\nplt.show()"
      ]
    },
    {
      "cell_type": "markdown",
      "metadata": {},
      "source": [
        "Source-space. See `sphx_glr_auto_scripts_14-group_average_source.py`\n\n"
      ]
    },
    {
      "cell_type": "code",
      "execution_count": null,
      "metadata": {
        "collapsed": false
      },
      "outputs": [],
      "source": [
        "fname = op.join(meg_dir, 'contrast-average')\nstc = mne.read_source_estimate(fname, subject='fsaverage').magnitude()\n\nbrain = stc.plot(views=['ven'], hemi='both', subject='fsaverage',\n                 subjects_dir=subjects_dir, initial_time=0.17, time_unit='s',\n                 figure=1, clim=dict(kind='value', lims=(0.5, 1.5, 2.5)),\n                 background='white')"
      ]
    },
    {
      "cell_type": "markdown",
      "metadata": {},
      "source": [
        "LCMV beamformer\n\n"
      ]
    },
    {
      "cell_type": "code",
      "execution_count": null,
      "metadata": {
        "collapsed": false
      },
      "outputs": [],
      "source": [
        "fname = op.join(meg_dir, 'contrast-average-lcmv')\nstc = mne.read_source_estimate(fname, subject='fsaverage')\n\nbrain = stc.plot(views=['ven'], hemi='both', subject='fsaverage',\n                 subjects_dir=subjects_dir, initial_time=0.17, time_unit='s',\n                 figure=2, clim=dict(kind='value', lims=(0.02, 0.03, 0.04)),\n                 background='white')"
      ]
    }
  ],
  "metadata": {
    "kernelspec": {
      "display_name": "Python 3",
      "language": "python",
      "name": "python3"
    },
    "language_info": {
      "codemirror_mode": {
        "name": "ipython",
        "version": 3
      },
      "file_extension": ".py",
      "mimetype": "text/x-python",
      "name": "python",
      "nbconvert_exporter": "python",
      "pygments_lexer": "ipython3",
      "version": "3.6.2"
    }
  },
  "nbformat": 4,
  "nbformat_minor": 0
}