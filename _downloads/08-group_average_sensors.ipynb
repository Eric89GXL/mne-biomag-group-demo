{
  "nbformat_minor": 0, 
  "nbformat": 4, 
  "cells": [
    {
      "execution_count": null, 
      "cell_type": "code", 
      "source": [
        "%matplotlib inline"
      ], 
      "outputs": [], 
      "metadata": {
        "collapsed": false
      }
    }, 
    {
      "source": [
        "\nGroup average on sensor level\n=============================\n\nThe EEG-channel data are averaged for group averages.\n\n"
      ], 
      "cell_type": "markdown", 
      "metadata": {}
    }, 
    {
      "execution_count": null, 
      "cell_type": "code", 
      "source": [
        "import os.path as op\n\nimport mne\n\nfrom library.config import meg_dir\n\nfamous = list()\nunfamiliar = list()\nscrambled = list()\nexclude = [1, 5, 16]  # Excluded subjects\n\nfor run in range(1, 20):\n    if run in exclude:\n        continue\n    subject = \"sub%03d\" % run\n    print(\"processing subject: %s\" % subject)\n    data_path = op.join(meg_dir, subject)\n\n    evokeds = mne.read_evokeds(op.join(meg_dir, subject,\n                                       '%s-ave.fif' % subject))\n    for evoked in evokeds[:3]:\n        evoked.pick_types(meg=False, eeg=True)  # pick only EEG channels\n    famous.append(evokeds[0])\n    scrambled.append(evokeds[1])\n    unfamiliar.append(evokeds[2])\n\n\nfamous = mne.combine_evoked(famous)\nfamous.save(op.join(meg_dir, 'eeg_famous-ave.fif'))\nunfamiliar = mne.combine_evoked(unfamiliar)\nunfamiliar.save(op.join(meg_dir, 'eeg_unfamiliar-ave.fif'))\nscrambled = mne.combine_evoked(scrambled)\nscrambled.save(op.join(meg_dir, 'eeg_scrambled-ave.fif'))"
      ], 
      "outputs": [], 
      "metadata": {
        "collapsed": false
      }
    }
  ], 
  "metadata": {
    "kernelspec": {
      "display_name": "Python 2", 
      "name": "python2", 
      "language": "python"
    }, 
    "language_info": {
      "mimetype": "text/x-python", 
      "nbconvert_exporter": "python", 
      "name": "python", 
      "file_extension": ".py", 
      "version": "2.7.12", 
      "pygments_lexer": "ipython2", 
      "codemirror_mode": {
        "version": 2, 
        "name": "ipython"
      }
    }
  }
}